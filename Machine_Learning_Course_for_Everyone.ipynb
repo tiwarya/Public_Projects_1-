{
  "nbformat": 4,
  "nbformat_minor": 0,
  "metadata": {
    "colab": {
      "provenance": [],
      "toc_visible": true,
      "authorship_tag": "ABX9TyNQ2hxqWOaHZNyzIFNmX1Ho",
      "include_colab_link": true
    },
    "kernelspec": {
      "name": "python3",
      "display_name": "Python 3"
    },
    "language_info": {
      "name": "python"
    }
  },
  "cells": [
    {
      "cell_type": "markdown",
      "metadata": {
        "id": "view-in-github",
        "colab_type": "text"
      },
      "source": [
        "<a href=\"https://colab.research.google.com/github/tiwarya/Public_Projects_1-/blob/main/Machine_Learning_Course_for_Everyone.ipynb\" target=\"_parent\"><img src=\"https://colab.research.google.com/assets/colab-badge.svg\" alt=\"Open In Colab\"/></a>"
      ]
    },
    {
      "cell_type": "markdown",
      "source": [
        "# Machine Learning for Everyone - Full Course\n",
        "\n",
        "link - https://www.youtube.com/watch?v=i_LwzRVP7bg\n",
        "\n",
        "I decided to this because I think this is a great starting point, Kylie Ying is a great instructor, and I do wish to learn more about this field and therefore I begin my journey into ML through this. I hope, this venture of mine will lead to further courses and projects and I hope I can deliver on this promise to myself. I want to be a better person and better learner overall and move past all of my prior failures. I will not update this cell, any time in the future so if you or I open this file years down the line, probably will look at this with pride or regret, the former i certainly hope.\n",
        "\n",
        "Note: some cells and functions are given a temporary status, since changes were made later on. I don't want that to ruin the prior learnings so We will constantly keep creating updated versions which we will actually learning. All temporary functions or dfs or variables or whatever will be given a 'Temp' prefix"
      ],
      "metadata": {
        "id": "WACL_FN6BPNY"
      }
    },
    {
      "cell_type": "markdown",
      "source": [
        "# Part 1 - Magic Dataset\n",
        "\n",
        "Source: https://archive.ics.uci.edu/dataset/159/magic+gamma+telescope\n",
        "\n",
        "Citation: Bock,R.. (2007). MAGIC Gamma Telescope. UCI Machine Learning Repository. https://doi.org/10.24432/C52C8B.\n",
        "\n",
        "Data are MC (Monte Carlo) generated to simulate registration of high energy gamma particles in an atmospheric Cherenkov telescope.\n",
        "\n",
        "Crux: Depending on the energy of the primary gamma, a total of few hundreds to some 10000 Cherenkov photons get collected, in patterns (called the shower image), allowing to discriminate statistically those caused by primary gammas (signal) from the images of hadronic showers initiated by cosmic rays in the upper atmosphere (background)."
      ],
      "metadata": {
        "id": "3yFQgKaAEGjc"
      }
    },
    {
      "cell_type": "code",
      "source": [
        "#importing important libraries\n",
        "import numpy as np\n",
        "import pandas as pd\n",
        "import matplotlib.pyplot as plt\n",
        "from sklearn.preprocessing import StandardScaler\n",
        "from imblearn.over_sampling import RandomOverSampler"
      ],
      "metadata": {
        "id": "j0owR-ZNGPwU"
      },
      "execution_count": null,
      "outputs": []
    },
    {
      "cell_type": "code",
      "source": [
        "#we downloaded, extracted and dragged and dropped the file into colab\n",
        "#now can access it\n",
        "pd.read_csv('magic04.data')"
      ],
      "metadata": {
        "colab": {
          "base_uri": "https://localhost:8080/",
          "height": 423
        },
        "id": "crsXzHMsGgX-",
        "outputId": "d986fd32-ded9-4536-f41a-826e73723ef5"
      },
      "execution_count": null,
      "outputs": [
        {
          "output_type": "execute_result",
          "data": {
            "text/plain": [
              "        28.7967   16.0021  2.6449  0.3918  0.1982   27.7004    22.011  \\\n",
              "0       31.6036   11.7235  2.5185  0.5303  0.3773   26.2722   23.8238   \n",
              "1      162.0520  136.0310  4.0612  0.0374  0.0187  116.7410  -64.8580   \n",
              "2       23.8172    9.5728  2.3385  0.6147  0.3922   27.2107   -6.4633   \n",
              "3       75.1362   30.9205  3.1611  0.3168  0.1832   -5.5277   28.5525   \n",
              "4       51.6240   21.1502  2.9085  0.2420  0.1340   50.8761   43.1887   \n",
              "...         ...       ...     ...     ...     ...       ...       ...   \n",
              "19014   21.3846   10.9170  2.6161  0.5857  0.3934   15.2618   11.5245   \n",
              "19015   28.9452    6.7020  2.2672  0.5351  0.2784   37.0816   13.1853   \n",
              "19016   75.4455   47.5305  3.4483  0.1417  0.0549   -9.3561   41.0562   \n",
              "19017  120.5135   76.9018  3.9939  0.0944  0.0683    5.8043  -93.5224   \n",
              "19018  187.1814   53.0014  3.2093  0.2876  0.1539 -167.3125 -168.4558   \n",
              "\n",
              "       -8.2027   40.092   81.8828  g  \n",
              "0      -9.9574   6.3609  205.2610  g  \n",
              "1     -45.2160  76.9600  256.7880  g  \n",
              "2      -7.1513  10.4490  116.7370  g  \n",
              "3      21.8393   4.6480  356.4620  g  \n",
              "4       9.8145   3.6130  238.0980  g  \n",
              "...        ...      ...       ... ..  \n",
              "19014   2.8766   2.4229  106.8258  h  \n",
              "19015  -2.9632  86.7975  247.4560  h  \n",
              "19016  -9.4662  30.2987  256.5166  h  \n",
              "19017 -63.8389  84.6874  408.3166  h  \n",
              "19018  31.4755  52.7310  272.3174  h  \n",
              "\n",
              "[19019 rows x 11 columns]"
            ],
            "text/html": [
              "\n",
              "  <div id=\"df-95ea67e7-3c62-4f8b-8c03-c43ab50ad5db\" class=\"colab-df-container\">\n",
              "    <div>\n",
              "<style scoped>\n",
              "    .dataframe tbody tr th:only-of-type {\n",
              "        vertical-align: middle;\n",
              "    }\n",
              "\n",
              "    .dataframe tbody tr th {\n",
              "        vertical-align: top;\n",
              "    }\n",
              "\n",
              "    .dataframe thead th {\n",
              "        text-align: right;\n",
              "    }\n",
              "</style>\n",
              "<table border=\"1\" class=\"dataframe\">\n",
              "  <thead>\n",
              "    <tr style=\"text-align: right;\">\n",
              "      <th></th>\n",
              "      <th>28.7967</th>\n",
              "      <th>16.0021</th>\n",
              "      <th>2.6449</th>\n",
              "      <th>0.3918</th>\n",
              "      <th>0.1982</th>\n",
              "      <th>27.7004</th>\n",
              "      <th>22.011</th>\n",
              "      <th>-8.2027</th>\n",
              "      <th>40.092</th>\n",
              "      <th>81.8828</th>\n",
              "      <th>g</th>\n",
              "    </tr>\n",
              "  </thead>\n",
              "  <tbody>\n",
              "    <tr>\n",
              "      <th>0</th>\n",
              "      <td>31.6036</td>\n",
              "      <td>11.7235</td>\n",
              "      <td>2.5185</td>\n",
              "      <td>0.5303</td>\n",
              "      <td>0.3773</td>\n",
              "      <td>26.2722</td>\n",
              "      <td>23.8238</td>\n",
              "      <td>-9.9574</td>\n",
              "      <td>6.3609</td>\n",
              "      <td>205.2610</td>\n",
              "      <td>g</td>\n",
              "    </tr>\n",
              "    <tr>\n",
              "      <th>1</th>\n",
              "      <td>162.0520</td>\n",
              "      <td>136.0310</td>\n",
              "      <td>4.0612</td>\n",
              "      <td>0.0374</td>\n",
              "      <td>0.0187</td>\n",
              "      <td>116.7410</td>\n",
              "      <td>-64.8580</td>\n",
              "      <td>-45.2160</td>\n",
              "      <td>76.9600</td>\n",
              "      <td>256.7880</td>\n",
              "      <td>g</td>\n",
              "    </tr>\n",
              "    <tr>\n",
              "      <th>2</th>\n",
              "      <td>23.8172</td>\n",
              "      <td>9.5728</td>\n",
              "      <td>2.3385</td>\n",
              "      <td>0.6147</td>\n",
              "      <td>0.3922</td>\n",
              "      <td>27.2107</td>\n",
              "      <td>-6.4633</td>\n",
              "      <td>-7.1513</td>\n",
              "      <td>10.4490</td>\n",
              "      <td>116.7370</td>\n",
              "      <td>g</td>\n",
              "    </tr>\n",
              "    <tr>\n",
              "      <th>3</th>\n",
              "      <td>75.1362</td>\n",
              "      <td>30.9205</td>\n",
              "      <td>3.1611</td>\n",
              "      <td>0.3168</td>\n",
              "      <td>0.1832</td>\n",
              "      <td>-5.5277</td>\n",
              "      <td>28.5525</td>\n",
              "      <td>21.8393</td>\n",
              "      <td>4.6480</td>\n",
              "      <td>356.4620</td>\n",
              "      <td>g</td>\n",
              "    </tr>\n",
              "    <tr>\n",
              "      <th>4</th>\n",
              "      <td>51.6240</td>\n",
              "      <td>21.1502</td>\n",
              "      <td>2.9085</td>\n",
              "      <td>0.2420</td>\n",
              "      <td>0.1340</td>\n",
              "      <td>50.8761</td>\n",
              "      <td>43.1887</td>\n",
              "      <td>9.8145</td>\n",
              "      <td>3.6130</td>\n",
              "      <td>238.0980</td>\n",
              "      <td>g</td>\n",
              "    </tr>\n",
              "    <tr>\n",
              "      <th>...</th>\n",
              "      <td>...</td>\n",
              "      <td>...</td>\n",
              "      <td>...</td>\n",
              "      <td>...</td>\n",
              "      <td>...</td>\n",
              "      <td>...</td>\n",
              "      <td>...</td>\n",
              "      <td>...</td>\n",
              "      <td>...</td>\n",
              "      <td>...</td>\n",
              "      <td>...</td>\n",
              "    </tr>\n",
              "    <tr>\n",
              "      <th>19014</th>\n",
              "      <td>21.3846</td>\n",
              "      <td>10.9170</td>\n",
              "      <td>2.6161</td>\n",
              "      <td>0.5857</td>\n",
              "      <td>0.3934</td>\n",
              "      <td>15.2618</td>\n",
              "      <td>11.5245</td>\n",
              "      <td>2.8766</td>\n",
              "      <td>2.4229</td>\n",
              "      <td>106.8258</td>\n",
              "      <td>h</td>\n",
              "    </tr>\n",
              "    <tr>\n",
              "      <th>19015</th>\n",
              "      <td>28.9452</td>\n",
              "      <td>6.7020</td>\n",
              "      <td>2.2672</td>\n",
              "      <td>0.5351</td>\n",
              "      <td>0.2784</td>\n",
              "      <td>37.0816</td>\n",
              "      <td>13.1853</td>\n",
              "      <td>-2.9632</td>\n",
              "      <td>86.7975</td>\n",
              "      <td>247.4560</td>\n",
              "      <td>h</td>\n",
              "    </tr>\n",
              "    <tr>\n",
              "      <th>19016</th>\n",
              "      <td>75.4455</td>\n",
              "      <td>47.5305</td>\n",
              "      <td>3.4483</td>\n",
              "      <td>0.1417</td>\n",
              "      <td>0.0549</td>\n",
              "      <td>-9.3561</td>\n",
              "      <td>41.0562</td>\n",
              "      <td>-9.4662</td>\n",
              "      <td>30.2987</td>\n",
              "      <td>256.5166</td>\n",
              "      <td>h</td>\n",
              "    </tr>\n",
              "    <tr>\n",
              "      <th>19017</th>\n",
              "      <td>120.5135</td>\n",
              "      <td>76.9018</td>\n",
              "      <td>3.9939</td>\n",
              "      <td>0.0944</td>\n",
              "      <td>0.0683</td>\n",
              "      <td>5.8043</td>\n",
              "      <td>-93.5224</td>\n",
              "      <td>-63.8389</td>\n",
              "      <td>84.6874</td>\n",
              "      <td>408.3166</td>\n",
              "      <td>h</td>\n",
              "    </tr>\n",
              "    <tr>\n",
              "      <th>19018</th>\n",
              "      <td>187.1814</td>\n",
              "      <td>53.0014</td>\n",
              "      <td>3.2093</td>\n",
              "      <td>0.2876</td>\n",
              "      <td>0.1539</td>\n",
              "      <td>-167.3125</td>\n",
              "      <td>-168.4558</td>\n",
              "      <td>31.4755</td>\n",
              "      <td>52.7310</td>\n",
              "      <td>272.3174</td>\n",
              "      <td>h</td>\n",
              "    </tr>\n",
              "  </tbody>\n",
              "</table>\n",
              "<p>19019 rows × 11 columns</p>\n",
              "</div>\n",
              "    <div class=\"colab-df-buttons\">\n",
              "\n",
              "  <div class=\"colab-df-container\">\n",
              "    <button class=\"colab-df-convert\" onclick=\"convertToInteractive('df-95ea67e7-3c62-4f8b-8c03-c43ab50ad5db')\"\n",
              "            title=\"Convert this dataframe to an interactive table.\"\n",
              "            style=\"display:none;\">\n",
              "\n",
              "  <svg xmlns=\"http://www.w3.org/2000/svg\" height=\"24px\" viewBox=\"0 -960 960 960\">\n",
              "    <path d=\"M120-120v-720h720v720H120Zm60-500h600v-160H180v160Zm220 220h160v-160H400v160Zm0 220h160v-160H400v160ZM180-400h160v-160H180v160Zm440 0h160v-160H620v160ZM180-180h160v-160H180v160Zm440 0h160v-160H620v160Z\"/>\n",
              "  </svg>\n",
              "    </button>\n",
              "\n",
              "  <style>\n",
              "    .colab-df-container {\n",
              "      display:flex;\n",
              "      gap: 12px;\n",
              "    }\n",
              "\n",
              "    .colab-df-convert {\n",
              "      background-color: #E8F0FE;\n",
              "      border: none;\n",
              "      border-radius: 50%;\n",
              "      cursor: pointer;\n",
              "      display: none;\n",
              "      fill: #1967D2;\n",
              "      height: 32px;\n",
              "      padding: 0 0 0 0;\n",
              "      width: 32px;\n",
              "    }\n",
              "\n",
              "    .colab-df-convert:hover {\n",
              "      background-color: #E2EBFA;\n",
              "      box-shadow: 0px 1px 2px rgba(60, 64, 67, 0.3), 0px 1px 3px 1px rgba(60, 64, 67, 0.15);\n",
              "      fill: #174EA6;\n",
              "    }\n",
              "\n",
              "    .colab-df-buttons div {\n",
              "      margin-bottom: 4px;\n",
              "    }\n",
              "\n",
              "    [theme=dark] .colab-df-convert {\n",
              "      background-color: #3B4455;\n",
              "      fill: #D2E3FC;\n",
              "    }\n",
              "\n",
              "    [theme=dark] .colab-df-convert:hover {\n",
              "      background-color: #434B5C;\n",
              "      box-shadow: 0px 1px 3px 1px rgba(0, 0, 0, 0.15);\n",
              "      filter: drop-shadow(0px 1px 2px rgba(0, 0, 0, 0.3));\n",
              "      fill: #FFFFFF;\n",
              "    }\n",
              "  </style>\n",
              "\n",
              "    <script>\n",
              "      const buttonEl =\n",
              "        document.querySelector('#df-95ea67e7-3c62-4f8b-8c03-c43ab50ad5db button.colab-df-convert');\n",
              "      buttonEl.style.display =\n",
              "        google.colab.kernel.accessAllowed ? 'block' : 'none';\n",
              "\n",
              "      async function convertToInteractive(key) {\n",
              "        const element = document.querySelector('#df-95ea67e7-3c62-4f8b-8c03-c43ab50ad5db');\n",
              "        const dataTable =\n",
              "          await google.colab.kernel.invokeFunction('convertToInteractive',\n",
              "                                                    [key], {});\n",
              "        if (!dataTable) return;\n",
              "\n",
              "        const docLinkHtml = 'Like what you see? Visit the ' +\n",
              "          '<a target=\"_blank\" href=https://colab.research.google.com/notebooks/data_table.ipynb>data table notebook</a>'\n",
              "          + ' to learn more about interactive tables.';\n",
              "        element.innerHTML = '';\n",
              "        dataTable['output_type'] = 'display_data';\n",
              "        await google.colab.output.renderOutput(dataTable, element);\n",
              "        const docLink = document.createElement('div');\n",
              "        docLink.innerHTML = docLinkHtml;\n",
              "        element.appendChild(docLink);\n",
              "      }\n",
              "    </script>\n",
              "  </div>\n",
              "\n",
              "\n",
              "<div id=\"df-fc5eeea5-d485-457f-8276-fc3f46fc1c2e\">\n",
              "  <button class=\"colab-df-quickchart\" onclick=\"quickchart('df-fc5eeea5-d485-457f-8276-fc3f46fc1c2e')\"\n",
              "            title=\"Suggest charts.\"\n",
              "            style=\"display:none;\">\n",
              "\n",
              "<svg xmlns=\"http://www.w3.org/2000/svg\" height=\"24px\"viewBox=\"0 0 24 24\"\n",
              "     width=\"24px\">\n",
              "    <g>\n",
              "        <path d=\"M19 3H5c-1.1 0-2 .9-2 2v14c0 1.1.9 2 2 2h14c1.1 0 2-.9 2-2V5c0-1.1-.9-2-2-2zM9 17H7v-7h2v7zm4 0h-2V7h2v10zm4 0h-2v-4h2v4z\"/>\n",
              "    </g>\n",
              "</svg>\n",
              "  </button>\n",
              "\n",
              "<style>\n",
              "  .colab-df-quickchart {\n",
              "    background-color: #E8F0FE;\n",
              "    border: none;\n",
              "    border-radius: 50%;\n",
              "    cursor: pointer;\n",
              "    display: none;\n",
              "    fill: #1967D2;\n",
              "    height: 32px;\n",
              "    padding: 0 0 0 0;\n",
              "    width: 32px;\n",
              "  }\n",
              "\n",
              "  .colab-df-quickchart:hover {\n",
              "    background-color: #E2EBFA;\n",
              "    box-shadow: 0px 1px 2px rgba(60, 64, 67, 0.3), 0px 1px 3px 1px rgba(60, 64, 67, 0.15);\n",
              "    fill: #174EA6;\n",
              "  }\n",
              "\n",
              "  [theme=dark] .colab-df-quickchart {\n",
              "    background-color: #3B4455;\n",
              "    fill: #D2E3FC;\n",
              "  }\n",
              "\n",
              "  [theme=dark] .colab-df-quickchart:hover {\n",
              "    background-color: #434B5C;\n",
              "    box-shadow: 0px 1px 3px 1px rgba(0, 0, 0, 0.15);\n",
              "    filter: drop-shadow(0px 1px 2px rgba(0, 0, 0, 0.3));\n",
              "    fill: #FFFFFF;\n",
              "  }\n",
              "</style>\n",
              "\n",
              "  <script>\n",
              "    async function quickchart(key) {\n",
              "      const charts = await google.colab.kernel.invokeFunction(\n",
              "          'suggestCharts', [key], {});\n",
              "    }\n",
              "    (() => {\n",
              "      let quickchartButtonEl =\n",
              "        document.querySelector('#df-fc5eeea5-d485-457f-8276-fc3f46fc1c2e button');\n",
              "      quickchartButtonEl.style.display =\n",
              "        google.colab.kernel.accessAllowed ? 'block' : 'none';\n",
              "    })();\n",
              "  </script>\n",
              "</div>\n",
              "    </div>\n",
              "  </div>\n"
            ]
          },
          "metadata": {},
          "execution_count": 3
        }
      ]
    },
    {
      "cell_type": "markdown",
      "source": [
        "It doesn't seem to have any column labels.\n",
        "\n",
        "So we will go back to the website and get the same. Then we will manually enter it. Btw given below is the attribute information.\n",
        "\n",
        "    1.  fLength:  continuous  # major axis of ellipse [mm]\n",
        "    2.  fWidth:   continuous  # minor axis of ellipse [mm]\n",
        "    3.  fSize:    continuous  # 10-log of sum of content of all pixels [in #phot]\n",
        "    4.  fConc:    continuous  # ratio of sum of two highest pixels over fSize  [ratio]\n",
        "    5.  fConc1:   continuous  # ratio of highest pixel over fSize  [ratio]\n",
        "    6.  fAsym:    continuous  # distance from highest pixel to center, projected onto major axis [mm]\n",
        "    7.  fM3Long:  continuous  # 3rd root of third moment along major axis  [mm]\n",
        "    8.  fM3Trans: continuous  # 3rd root of third moment along minor axis  [mm]\n",
        "    9.  fAlpha:   continuous  # angle of major axis with vector to origin [deg]\n",
        "    10.  fDist:    continuous  # distance from origin to center of ellipse [mm]\n",
        "    11.  class:    g,h         # gamma (signal), hadron (background)"
      ],
      "metadata": {
        "id": "E4Xy8vMIGkFg"
      }
    },
    {
      "cell_type": "code",
      "source": [
        "cols = [\"fLength\", \"fWidth\", \"fSize\", \"fConc\", \"fConc1\",\n",
        "        \"fAsym\", \"fM3Long\", \"fM3Trans\", \"fAlpha\", \"fDist\", \"class\"]\n",
        "pd.read_csv('magic04.data', names = cols)\n",
        "df = pd.read_csv('magic04.data', names = cols)\n",
        "df.head()"
      ],
      "metadata": {
        "colab": {
          "base_uri": "https://localhost:8080/",
          "height": 206
        },
        "id": "0ipIMzupHEGr",
        "outputId": "5cd41aa9-1768-48ba-c29d-80f830a35945"
      },
      "execution_count": null,
      "outputs": [
        {
          "output_type": "execute_result",
          "data": {
            "text/plain": [
              "    fLength    fWidth   fSize   fConc  fConc1     fAsym  fM3Long  fM3Trans  \\\n",
              "0   28.7967   16.0021  2.6449  0.3918  0.1982   27.7004  22.0110   -8.2027   \n",
              "1   31.6036   11.7235  2.5185  0.5303  0.3773   26.2722  23.8238   -9.9574   \n",
              "2  162.0520  136.0310  4.0612  0.0374  0.0187  116.7410 -64.8580  -45.2160   \n",
              "3   23.8172    9.5728  2.3385  0.6147  0.3922   27.2107  -6.4633   -7.1513   \n",
              "4   75.1362   30.9205  3.1611  0.3168  0.1832   -5.5277  28.5525   21.8393   \n",
              "\n",
              "    fAlpha     fDist class  \n",
              "0  40.0920   81.8828     g  \n",
              "1   6.3609  205.2610     g  \n",
              "2  76.9600  256.7880     g  \n",
              "3  10.4490  116.7370     g  \n",
              "4   4.6480  356.4620     g  "
            ],
            "text/html": [
              "\n",
              "  <div id=\"df-aa2e6efc-f0b3-4a7c-bd4d-2a7fdf3a4537\" class=\"colab-df-container\">\n",
              "    <div>\n",
              "<style scoped>\n",
              "    .dataframe tbody tr th:only-of-type {\n",
              "        vertical-align: middle;\n",
              "    }\n",
              "\n",
              "    .dataframe tbody tr th {\n",
              "        vertical-align: top;\n",
              "    }\n",
              "\n",
              "    .dataframe thead th {\n",
              "        text-align: right;\n",
              "    }\n",
              "</style>\n",
              "<table border=\"1\" class=\"dataframe\">\n",
              "  <thead>\n",
              "    <tr style=\"text-align: right;\">\n",
              "      <th></th>\n",
              "      <th>fLength</th>\n",
              "      <th>fWidth</th>\n",
              "      <th>fSize</th>\n",
              "      <th>fConc</th>\n",
              "      <th>fConc1</th>\n",
              "      <th>fAsym</th>\n",
              "      <th>fM3Long</th>\n",
              "      <th>fM3Trans</th>\n",
              "      <th>fAlpha</th>\n",
              "      <th>fDist</th>\n",
              "      <th>class</th>\n",
              "    </tr>\n",
              "  </thead>\n",
              "  <tbody>\n",
              "    <tr>\n",
              "      <th>0</th>\n",
              "      <td>28.7967</td>\n",
              "      <td>16.0021</td>\n",
              "      <td>2.6449</td>\n",
              "      <td>0.3918</td>\n",
              "      <td>0.1982</td>\n",
              "      <td>27.7004</td>\n",
              "      <td>22.0110</td>\n",
              "      <td>-8.2027</td>\n",
              "      <td>40.0920</td>\n",
              "      <td>81.8828</td>\n",
              "      <td>g</td>\n",
              "    </tr>\n",
              "    <tr>\n",
              "      <th>1</th>\n",
              "      <td>31.6036</td>\n",
              "      <td>11.7235</td>\n",
              "      <td>2.5185</td>\n",
              "      <td>0.5303</td>\n",
              "      <td>0.3773</td>\n",
              "      <td>26.2722</td>\n",
              "      <td>23.8238</td>\n",
              "      <td>-9.9574</td>\n",
              "      <td>6.3609</td>\n",
              "      <td>205.2610</td>\n",
              "      <td>g</td>\n",
              "    </tr>\n",
              "    <tr>\n",
              "      <th>2</th>\n",
              "      <td>162.0520</td>\n",
              "      <td>136.0310</td>\n",
              "      <td>4.0612</td>\n",
              "      <td>0.0374</td>\n",
              "      <td>0.0187</td>\n",
              "      <td>116.7410</td>\n",
              "      <td>-64.8580</td>\n",
              "      <td>-45.2160</td>\n",
              "      <td>76.9600</td>\n",
              "      <td>256.7880</td>\n",
              "      <td>g</td>\n",
              "    </tr>\n",
              "    <tr>\n",
              "      <th>3</th>\n",
              "      <td>23.8172</td>\n",
              "      <td>9.5728</td>\n",
              "      <td>2.3385</td>\n",
              "      <td>0.6147</td>\n",
              "      <td>0.3922</td>\n",
              "      <td>27.2107</td>\n",
              "      <td>-6.4633</td>\n",
              "      <td>-7.1513</td>\n",
              "      <td>10.4490</td>\n",
              "      <td>116.7370</td>\n",
              "      <td>g</td>\n",
              "    </tr>\n",
              "    <tr>\n",
              "      <th>4</th>\n",
              "      <td>75.1362</td>\n",
              "      <td>30.9205</td>\n",
              "      <td>3.1611</td>\n",
              "      <td>0.3168</td>\n",
              "      <td>0.1832</td>\n",
              "      <td>-5.5277</td>\n",
              "      <td>28.5525</td>\n",
              "      <td>21.8393</td>\n",
              "      <td>4.6480</td>\n",
              "      <td>356.4620</td>\n",
              "      <td>g</td>\n",
              "    </tr>\n",
              "  </tbody>\n",
              "</table>\n",
              "</div>\n",
              "    <div class=\"colab-df-buttons\">\n",
              "\n",
              "  <div class=\"colab-df-container\">\n",
              "    <button class=\"colab-df-convert\" onclick=\"convertToInteractive('df-aa2e6efc-f0b3-4a7c-bd4d-2a7fdf3a4537')\"\n",
              "            title=\"Convert this dataframe to an interactive table.\"\n",
              "            style=\"display:none;\">\n",
              "\n",
              "  <svg xmlns=\"http://www.w3.org/2000/svg\" height=\"24px\" viewBox=\"0 -960 960 960\">\n",
              "    <path d=\"M120-120v-720h720v720H120Zm60-500h600v-160H180v160Zm220 220h160v-160H400v160Zm0 220h160v-160H400v160ZM180-400h160v-160H180v160Zm440 0h160v-160H620v160ZM180-180h160v-160H180v160Zm440 0h160v-160H620v160Z\"/>\n",
              "  </svg>\n",
              "    </button>\n",
              "\n",
              "  <style>\n",
              "    .colab-df-container {\n",
              "      display:flex;\n",
              "      gap: 12px;\n",
              "    }\n",
              "\n",
              "    .colab-df-convert {\n",
              "      background-color: #E8F0FE;\n",
              "      border: none;\n",
              "      border-radius: 50%;\n",
              "      cursor: pointer;\n",
              "      display: none;\n",
              "      fill: #1967D2;\n",
              "      height: 32px;\n",
              "      padding: 0 0 0 0;\n",
              "      width: 32px;\n",
              "    }\n",
              "\n",
              "    .colab-df-convert:hover {\n",
              "      background-color: #E2EBFA;\n",
              "      box-shadow: 0px 1px 2px rgba(60, 64, 67, 0.3), 0px 1px 3px 1px rgba(60, 64, 67, 0.15);\n",
              "      fill: #174EA6;\n",
              "    }\n",
              "\n",
              "    .colab-df-buttons div {\n",
              "      margin-bottom: 4px;\n",
              "    }\n",
              "\n",
              "    [theme=dark] .colab-df-convert {\n",
              "      background-color: #3B4455;\n",
              "      fill: #D2E3FC;\n",
              "    }\n",
              "\n",
              "    [theme=dark] .colab-df-convert:hover {\n",
              "      background-color: #434B5C;\n",
              "      box-shadow: 0px 1px 3px 1px rgba(0, 0, 0, 0.15);\n",
              "      filter: drop-shadow(0px 1px 2px rgba(0, 0, 0, 0.3));\n",
              "      fill: #FFFFFF;\n",
              "    }\n",
              "  </style>\n",
              "\n",
              "    <script>\n",
              "      const buttonEl =\n",
              "        document.querySelector('#df-aa2e6efc-f0b3-4a7c-bd4d-2a7fdf3a4537 button.colab-df-convert');\n",
              "      buttonEl.style.display =\n",
              "        google.colab.kernel.accessAllowed ? 'block' : 'none';\n",
              "\n",
              "      async function convertToInteractive(key) {\n",
              "        const element = document.querySelector('#df-aa2e6efc-f0b3-4a7c-bd4d-2a7fdf3a4537');\n",
              "        const dataTable =\n",
              "          await google.colab.kernel.invokeFunction('convertToInteractive',\n",
              "                                                    [key], {});\n",
              "        if (!dataTable) return;\n",
              "\n",
              "        const docLinkHtml = 'Like what you see? Visit the ' +\n",
              "          '<a target=\"_blank\" href=https://colab.research.google.com/notebooks/data_table.ipynb>data table notebook</a>'\n",
              "          + ' to learn more about interactive tables.';\n",
              "        element.innerHTML = '';\n",
              "        dataTable['output_type'] = 'display_data';\n",
              "        await google.colab.output.renderOutput(dataTable, element);\n",
              "        const docLink = document.createElement('div');\n",
              "        docLink.innerHTML = docLinkHtml;\n",
              "        element.appendChild(docLink);\n",
              "      }\n",
              "    </script>\n",
              "  </div>\n",
              "\n",
              "\n",
              "<div id=\"df-30e9325f-6650-4ec5-9d7e-54128daf946c\">\n",
              "  <button class=\"colab-df-quickchart\" onclick=\"quickchart('df-30e9325f-6650-4ec5-9d7e-54128daf946c')\"\n",
              "            title=\"Suggest charts.\"\n",
              "            style=\"display:none;\">\n",
              "\n",
              "<svg xmlns=\"http://www.w3.org/2000/svg\" height=\"24px\"viewBox=\"0 0 24 24\"\n",
              "     width=\"24px\">\n",
              "    <g>\n",
              "        <path d=\"M19 3H5c-1.1 0-2 .9-2 2v14c0 1.1.9 2 2 2h14c1.1 0 2-.9 2-2V5c0-1.1-.9-2-2-2zM9 17H7v-7h2v7zm4 0h-2V7h2v10zm4 0h-2v-4h2v4z\"/>\n",
              "    </g>\n",
              "</svg>\n",
              "  </button>\n",
              "\n",
              "<style>\n",
              "  .colab-df-quickchart {\n",
              "    background-color: #E8F0FE;\n",
              "    border: none;\n",
              "    border-radius: 50%;\n",
              "    cursor: pointer;\n",
              "    display: none;\n",
              "    fill: #1967D2;\n",
              "    height: 32px;\n",
              "    padding: 0 0 0 0;\n",
              "    width: 32px;\n",
              "  }\n",
              "\n",
              "  .colab-df-quickchart:hover {\n",
              "    background-color: #E2EBFA;\n",
              "    box-shadow: 0px 1px 2px rgba(60, 64, 67, 0.3), 0px 1px 3px 1px rgba(60, 64, 67, 0.15);\n",
              "    fill: #174EA6;\n",
              "  }\n",
              "\n",
              "  [theme=dark] .colab-df-quickchart {\n",
              "    background-color: #3B4455;\n",
              "    fill: #D2E3FC;\n",
              "  }\n",
              "\n",
              "  [theme=dark] .colab-df-quickchart:hover {\n",
              "    background-color: #434B5C;\n",
              "    box-shadow: 0px 1px 3px 1px rgba(0, 0, 0, 0.15);\n",
              "    filter: drop-shadow(0px 1px 2px rgba(0, 0, 0, 0.3));\n",
              "    fill: #FFFFFF;\n",
              "  }\n",
              "</style>\n",
              "\n",
              "  <script>\n",
              "    async function quickchart(key) {\n",
              "      const charts = await google.colab.kernel.invokeFunction(\n",
              "          'suggestCharts', [key], {});\n",
              "    }\n",
              "    (() => {\n",
              "      let quickchartButtonEl =\n",
              "        document.querySelector('#df-30e9325f-6650-4ec5-9d7e-54128daf946c button');\n",
              "      quickchartButtonEl.style.display =\n",
              "        google.colab.kernel.accessAllowed ? 'block' : 'none';\n",
              "    })();\n",
              "  </script>\n",
              "</div>\n",
              "    </div>\n",
              "  </div>\n"
            ]
          },
          "metadata": {},
          "execution_count": 4
        }
      ]
    },
    {
      "cell_type": "code",
      "source": [
        "df['class'].unique()"
      ],
      "metadata": {
        "colab": {
          "base_uri": "https://localhost:8080/"
        },
        "id": "vkP-inemYkUR",
        "outputId": "84c73368-904d-4754-9249-ed1a1b1110bc"
      },
      "execution_count": null,
      "outputs": [
        {
          "output_type": "execute_result",
          "data": {
            "text/plain": [
              "array(['g', 'h'], dtype=object)"
            ]
          },
          "metadata": {},
          "execution_count": 5
        }
      ]
    },
    {
      "cell_type": "markdown",
      "source": [
        "g - gammas, h - hadrons\n",
        "\n",
        "Computers are not good at dealing with characters, therefore conversion to numbers is important. We can change g - 1[true], and h - 0[false]."
      ],
      "metadata": {
        "id": "81kbd1t4YxNJ"
      }
    },
    {
      "cell_type": "code",
      "source": [
        "df['class'] = (df['class'] == 'g').astype(int)"
      ],
      "metadata": {
        "id": "d2xCIM4jZJzx"
      },
      "execution_count": null,
      "outputs": []
    },
    {
      "cell_type": "markdown",
      "source": [
        "In the ML model, our goal is to predict whether future samples will be g or h, and through this is called classification. The columns are the features, we pass these into our model to predict the label, which is the class column (therefore class column isn't a feature. This is supervised learning."
      ],
      "metadata": {
        "id": "owRSqZx5ZrBh"
      }
    },
    {
      "cell_type": "code",
      "source": [
        "df.head()"
      ],
      "metadata": {
        "colab": {
          "base_uri": "https://localhost:8080/",
          "height": 206
        },
        "id": "S5QFqwzvlk8d",
        "outputId": "44c0cc81-5a5c-4428-9d6a-33651447fbb4"
      },
      "execution_count": null,
      "outputs": [
        {
          "output_type": "execute_result",
          "data": {
            "text/plain": [
              "    fLength    fWidth   fSize   fConc  fConc1     fAsym  fM3Long  fM3Trans  \\\n",
              "0   28.7967   16.0021  2.6449  0.3918  0.1982   27.7004  22.0110   -8.2027   \n",
              "1   31.6036   11.7235  2.5185  0.5303  0.3773   26.2722  23.8238   -9.9574   \n",
              "2  162.0520  136.0310  4.0612  0.0374  0.0187  116.7410 -64.8580  -45.2160   \n",
              "3   23.8172    9.5728  2.3385  0.6147  0.3922   27.2107  -6.4633   -7.1513   \n",
              "4   75.1362   30.9205  3.1611  0.3168  0.1832   -5.5277  28.5525   21.8393   \n",
              "\n",
              "    fAlpha     fDist  class  \n",
              "0  40.0920   81.8828      1  \n",
              "1   6.3609  205.2610      1  \n",
              "2  76.9600  256.7880      1  \n",
              "3  10.4490  116.7370      1  \n",
              "4   4.6480  356.4620      1  "
            ],
            "text/html": [
              "\n",
              "  <div id=\"df-7e417746-02b4-4ea3-8a0b-9325e887b147\" class=\"colab-df-container\">\n",
              "    <div>\n",
              "<style scoped>\n",
              "    .dataframe tbody tr th:only-of-type {\n",
              "        vertical-align: middle;\n",
              "    }\n",
              "\n",
              "    .dataframe tbody tr th {\n",
              "        vertical-align: top;\n",
              "    }\n",
              "\n",
              "    .dataframe thead th {\n",
              "        text-align: right;\n",
              "    }\n",
              "</style>\n",
              "<table border=\"1\" class=\"dataframe\">\n",
              "  <thead>\n",
              "    <tr style=\"text-align: right;\">\n",
              "      <th></th>\n",
              "      <th>fLength</th>\n",
              "      <th>fWidth</th>\n",
              "      <th>fSize</th>\n",
              "      <th>fConc</th>\n",
              "      <th>fConc1</th>\n",
              "      <th>fAsym</th>\n",
              "      <th>fM3Long</th>\n",
              "      <th>fM3Trans</th>\n",
              "      <th>fAlpha</th>\n",
              "      <th>fDist</th>\n",
              "      <th>class</th>\n",
              "    </tr>\n",
              "  </thead>\n",
              "  <tbody>\n",
              "    <tr>\n",
              "      <th>0</th>\n",
              "      <td>28.7967</td>\n",
              "      <td>16.0021</td>\n",
              "      <td>2.6449</td>\n",
              "      <td>0.3918</td>\n",
              "      <td>0.1982</td>\n",
              "      <td>27.7004</td>\n",
              "      <td>22.0110</td>\n",
              "      <td>-8.2027</td>\n",
              "      <td>40.0920</td>\n",
              "      <td>81.8828</td>\n",
              "      <td>1</td>\n",
              "    </tr>\n",
              "    <tr>\n",
              "      <th>1</th>\n",
              "      <td>31.6036</td>\n",
              "      <td>11.7235</td>\n",
              "      <td>2.5185</td>\n",
              "      <td>0.5303</td>\n",
              "      <td>0.3773</td>\n",
              "      <td>26.2722</td>\n",
              "      <td>23.8238</td>\n",
              "      <td>-9.9574</td>\n",
              "      <td>6.3609</td>\n",
              "      <td>205.2610</td>\n",
              "      <td>1</td>\n",
              "    </tr>\n",
              "    <tr>\n",
              "      <th>2</th>\n",
              "      <td>162.0520</td>\n",
              "      <td>136.0310</td>\n",
              "      <td>4.0612</td>\n",
              "      <td>0.0374</td>\n",
              "      <td>0.0187</td>\n",
              "      <td>116.7410</td>\n",
              "      <td>-64.8580</td>\n",
              "      <td>-45.2160</td>\n",
              "      <td>76.9600</td>\n",
              "      <td>256.7880</td>\n",
              "      <td>1</td>\n",
              "    </tr>\n",
              "    <tr>\n",
              "      <th>3</th>\n",
              "      <td>23.8172</td>\n",
              "      <td>9.5728</td>\n",
              "      <td>2.3385</td>\n",
              "      <td>0.6147</td>\n",
              "      <td>0.3922</td>\n",
              "      <td>27.2107</td>\n",
              "      <td>-6.4633</td>\n",
              "      <td>-7.1513</td>\n",
              "      <td>10.4490</td>\n",
              "      <td>116.7370</td>\n",
              "      <td>1</td>\n",
              "    </tr>\n",
              "    <tr>\n",
              "      <th>4</th>\n",
              "      <td>75.1362</td>\n",
              "      <td>30.9205</td>\n",
              "      <td>3.1611</td>\n",
              "      <td>0.3168</td>\n",
              "      <td>0.1832</td>\n",
              "      <td>-5.5277</td>\n",
              "      <td>28.5525</td>\n",
              "      <td>21.8393</td>\n",
              "      <td>4.6480</td>\n",
              "      <td>356.4620</td>\n",
              "      <td>1</td>\n",
              "    </tr>\n",
              "  </tbody>\n",
              "</table>\n",
              "</div>\n",
              "    <div class=\"colab-df-buttons\">\n",
              "\n",
              "  <div class=\"colab-df-container\">\n",
              "    <button class=\"colab-df-convert\" onclick=\"convertToInteractive('df-7e417746-02b4-4ea3-8a0b-9325e887b147')\"\n",
              "            title=\"Convert this dataframe to an interactive table.\"\n",
              "            style=\"display:none;\">\n",
              "\n",
              "  <svg xmlns=\"http://www.w3.org/2000/svg\" height=\"24px\" viewBox=\"0 -960 960 960\">\n",
              "    <path d=\"M120-120v-720h720v720H120Zm60-500h600v-160H180v160Zm220 220h160v-160H400v160Zm0 220h160v-160H400v160ZM180-400h160v-160H180v160Zm440 0h160v-160H620v160ZM180-180h160v-160H180v160Zm440 0h160v-160H620v160Z\"/>\n",
              "  </svg>\n",
              "    </button>\n",
              "\n",
              "  <style>\n",
              "    .colab-df-container {\n",
              "      display:flex;\n",
              "      gap: 12px;\n",
              "    }\n",
              "\n",
              "    .colab-df-convert {\n",
              "      background-color: #E8F0FE;\n",
              "      border: none;\n",
              "      border-radius: 50%;\n",
              "      cursor: pointer;\n",
              "      display: none;\n",
              "      fill: #1967D2;\n",
              "      height: 32px;\n",
              "      padding: 0 0 0 0;\n",
              "      width: 32px;\n",
              "    }\n",
              "\n",
              "    .colab-df-convert:hover {\n",
              "      background-color: #E2EBFA;\n",
              "      box-shadow: 0px 1px 2px rgba(60, 64, 67, 0.3), 0px 1px 3px 1px rgba(60, 64, 67, 0.15);\n",
              "      fill: #174EA6;\n",
              "    }\n",
              "\n",
              "    .colab-df-buttons div {\n",
              "      margin-bottom: 4px;\n",
              "    }\n",
              "\n",
              "    [theme=dark] .colab-df-convert {\n",
              "      background-color: #3B4455;\n",
              "      fill: #D2E3FC;\n",
              "    }\n",
              "\n",
              "    [theme=dark] .colab-df-convert:hover {\n",
              "      background-color: #434B5C;\n",
              "      box-shadow: 0px 1px 3px 1px rgba(0, 0, 0, 0.15);\n",
              "      filter: drop-shadow(0px 1px 2px rgba(0, 0, 0, 0.3));\n",
              "      fill: #FFFFFF;\n",
              "    }\n",
              "  </style>\n",
              "\n",
              "    <script>\n",
              "      const buttonEl =\n",
              "        document.querySelector('#df-7e417746-02b4-4ea3-8a0b-9325e887b147 button.colab-df-convert');\n",
              "      buttonEl.style.display =\n",
              "        google.colab.kernel.accessAllowed ? 'block' : 'none';\n",
              "\n",
              "      async function convertToInteractive(key) {\n",
              "        const element = document.querySelector('#df-7e417746-02b4-4ea3-8a0b-9325e887b147');\n",
              "        const dataTable =\n",
              "          await google.colab.kernel.invokeFunction('convertToInteractive',\n",
              "                                                    [key], {});\n",
              "        if (!dataTable) return;\n",
              "\n",
              "        const docLinkHtml = 'Like what you see? Visit the ' +\n",
              "          '<a target=\"_blank\" href=https://colab.research.google.com/notebooks/data_table.ipynb>data table notebook</a>'\n",
              "          + ' to learn more about interactive tables.';\n",
              "        element.innerHTML = '';\n",
              "        dataTable['output_type'] = 'display_data';\n",
              "        await google.colab.output.renderOutput(dataTable, element);\n",
              "        const docLink = document.createElement('div');\n",
              "        docLink.innerHTML = docLinkHtml;\n",
              "        element.appendChild(docLink);\n",
              "      }\n",
              "    </script>\n",
              "  </div>\n",
              "\n",
              "\n",
              "<div id=\"df-471a8caf-006b-44fd-9ab2-c03833f10d15\">\n",
              "  <button class=\"colab-df-quickchart\" onclick=\"quickchart('df-471a8caf-006b-44fd-9ab2-c03833f10d15')\"\n",
              "            title=\"Suggest charts.\"\n",
              "            style=\"display:none;\">\n",
              "\n",
              "<svg xmlns=\"http://www.w3.org/2000/svg\" height=\"24px\"viewBox=\"0 0 24 24\"\n",
              "     width=\"24px\">\n",
              "    <g>\n",
              "        <path d=\"M19 3H5c-1.1 0-2 .9-2 2v14c0 1.1.9 2 2 2h14c1.1 0 2-.9 2-2V5c0-1.1-.9-2-2-2zM9 17H7v-7h2v7zm4 0h-2V7h2v10zm4 0h-2v-4h2v4z\"/>\n",
              "    </g>\n",
              "</svg>\n",
              "  </button>\n",
              "\n",
              "<style>\n",
              "  .colab-df-quickchart {\n",
              "    background-color: #E8F0FE;\n",
              "    border: none;\n",
              "    border-radius: 50%;\n",
              "    cursor: pointer;\n",
              "    display: none;\n",
              "    fill: #1967D2;\n",
              "    height: 32px;\n",
              "    padding: 0 0 0 0;\n",
              "    width: 32px;\n",
              "  }\n",
              "\n",
              "  .colab-df-quickchart:hover {\n",
              "    background-color: #E2EBFA;\n",
              "    box-shadow: 0px 1px 2px rgba(60, 64, 67, 0.3), 0px 1px 3px 1px rgba(60, 64, 67, 0.15);\n",
              "    fill: #174EA6;\n",
              "  }\n",
              "\n",
              "  [theme=dark] .colab-df-quickchart {\n",
              "    background-color: #3B4455;\n",
              "    fill: #D2E3FC;\n",
              "  }\n",
              "\n",
              "  [theme=dark] .colab-df-quickchart:hover {\n",
              "    background-color: #434B5C;\n",
              "    box-shadow: 0px 1px 3px 1px rgba(0, 0, 0, 0.15);\n",
              "    filter: drop-shadow(0px 1px 2px rgba(0, 0, 0, 0.3));\n",
              "    fill: #FFFFFF;\n",
              "  }\n",
              "</style>\n",
              "\n",
              "  <script>\n",
              "    async function quickchart(key) {\n",
              "      const charts = await google.colab.kernel.invokeFunction(\n",
              "          'suggestCharts', [key], {});\n",
              "    }\n",
              "    (() => {\n",
              "      let quickchartButtonEl =\n",
              "        document.querySelector('#df-471a8caf-006b-44fd-9ab2-c03833f10d15 button');\n",
              "      quickchartButtonEl.style.display =\n",
              "        google.colab.kernel.accessAllowed ? 'block' : 'none';\n",
              "    })();\n",
              "  </script>\n",
              "</div>\n",
              "    </div>\n",
              "  </div>\n"
            ]
          },
          "metadata": {},
          "execution_count": 7
        }
      ]
    },
    {
      "cell_type": "markdown",
      "source": [
        "You can see, g = 1."
      ],
      "metadata": {
        "id": "-GSb_mPPlqCe"
      }
    },
    {
      "cell_type": "code",
      "source": [
        "for labels in cols[:-1]:\n",
        "  #therefore for everything column label except the last, class.\n",
        "  #up till the last item\n",
        "   plt.hist(df[df[\"class\"]==1] [labels], color = 'blue', label = 'gamma', alpha = 0.7, density = True)\n",
        "   plt.hist(df[df[\"class\"]==0] [labels], color = 'red', label = 'hadron', alpha = 0.7, density = True)\n",
        "   plt.title(labels)\n",
        "   plt.ylabel(\"Probability\")\n",
        "   plt.xlabel(labels)\n",
        "   plt.legend()\n",
        "   plt.show()"
      ],
      "metadata": {
        "id": "GO5o4Fl-l1Nn",
        "outputId": "106ba60c-ee17-4f9b-f96e-6e74576fdbee",
        "colab": {
          "base_uri": "https://localhost:8080/",
          "height": 1000
        }
      },
      "execution_count": null,
      "outputs": [
        {
          "output_type": "display_data",
          "data": {
            "text/plain": [
              "<Figure size 640x480 with 1 Axes>"
            ],
            "image/png": "[encoded data removed]"
          },
          "metadata": {}
        },
        {
          "output_type": "display_data",
          "data": {
            "text/plain": [
              "<Figure size 640x480 with 1 Axes>"
            ],
            "image/png": "[encoded data removed]"
          },
          "metadata": {}
        },
        {
          "output_type": "display_data",
          "data": {
            "text/plain": [
              "<Figure size 640x480 with 1 Axes>"
            ],
            "image/png": "[encoded data removed]"
          },
          "metadata": {}
        },
        {
          "output_type": "display_data",
          "data": {
            "text/plain": [
              "<Figure size 640x480 with 1 Axes>"
            ],
            "image/png": "[encoded data removed]"
          },
          "metadata": {}
        },
        {
          "output_type": "display_data",
          "data": {
            "text/plain": [
              "<Figure size 640x480 with 1 Axes>"
            ],
            "image/png": "[encoded data removed]"
          },
          "metadata": {}
        },
        {
          "output_type": "display_data",
          "data": {
            "text/plain": [
              "<Figure size 640x480 with 1 Axes>"
            ],
            "image/png": "[encoded data removed]"
          },
          "metadata": {}
        },
        {
          "output_type": "display_data",
          "data": {
            "text/plain": [
              "<Figure size 640x480 with 1 Axes>"
            ],
            "image/png": "[encoded data removed]"
          },
          "metadata": {}
        },
        {
          "output_type": "display_data",
          "data": {
            "text/plain": [
              "<Figure size 640x480 with 1 Axes>"
            ],
            "image/png": "[encoded data removed]"
          },
          "metadata": {}
        },
        {
          "output_type": "display_data",
          "data": {
            "text/plain": [
              "<Figure size 640x480 with 1 Axes>"
            ],
            "image/png": "[encoded data removed]"
          },
          "metadata": {}
        },
        {
          "output_type": "display_data",
          "data": {
            "text/plain": [
              "<Figure size 640x480 with 1 Axes>"
            ],
            "image/png": "[encoded data removed]"
          },
          "metadata": {}
        }
      ]
    },
    {
      "cell_type": "markdown",
      "source": [
        "## Train, Validation and Test Datasets"
      ],
      "metadata": {
        "id": "aVYMOFqJvwdv"
      }
    },
    {
      "cell_type": "code",
      "source": [
        "train, valid, test = np.split(df.sample(frac=1), [int(0.6*len(df)), int(0.8*len(df))])\n",
        "#The frac argument in the sample() method defines the fraction of random items you want to obtain.\n",
        "#So, if frac=0.5, it will return 50% of the rows.\n",
        "#here the int argument, first split at 0.6, second at 0.8"
      ],
      "metadata": {
        "id": "CKZJhFWgAUXs"
      },
      "execution_count": null,
      "outputs": []
    },
    {
      "cell_type": "code",
      "source": [
        "#READ THIS CELL CAREFULLY\n",
        "#This is a temp function\n",
        "#WE WILL USE AN UPDATED VERSION BELOW\n",
        "\n",
        "#we define this function to scale up the values of the columns\n",
        "#this is due to the fact that some columns have\n",
        "#incredibly large values, and some have smaller values\n",
        "def Temp_scale_dataframe(dataframe):\n",
        "  X = dataframe[dataframe.columns[:-1]].values\n",
        "  y = dataframe[dataframe.columns[-1]].values\n",
        "\n",
        "  #understand why X is W and y is y\n",
        "  #X  - features matrix\n",
        "  #y - targets vector\n",
        "\n",
        "  scaler = StandardScaler()\n",
        "  X = scaler.fit_transform(X)\n",
        "  #take x and fit the standard scaler to x and that is what our new values will be\n",
        "  #now we will convert the array (x) into a 2d numpy matrix\n",
        "  data = np.hstack((X,np.reshape(y, (-1,1))))\n",
        "  #here x is 2d and y is 1d, so i will update above line to reshape y\n",
        "  #here -1 tells computer to infer dimension value\n",
        "  #ends up being lenght of y\n",
        "  #same as putting (len(y), 1)\n",
        "\n",
        "  return data, X, y\n"
      ],
      "metadata": {
        "id": "zvW139qtJJT5"
      },
      "execution_count": null,
      "outputs": []
    },
    {
      "cell_type": "code",
      "source": [
        "#try and run this code\n",
        "#both and check for the distribution of the old and new version."
      ],
      "metadata": {
        "id": "7A39Macl7WDl"
      },
      "execution_count": null,
      "outputs": []
    },
    {
      "cell_type": "code",
      "source": [
        "#next up lets just look at the training df for a second\n",
        "train\n",
        "print(len(train[train[\"class\"] == 1])) #gamma\n",
        "print(len(train[train[\"class\"] == 0])) #hadron\n",
        "\n",
        "#7k Gs and 4k Hs\n",
        "#there we wanna increase the number Hs to better fit the Gs\n",
        "#we will use RandomOverSampler\n",
        "\n",
        "\n"
      ],
      "metadata": {
        "colab": {
          "base_uri": "https://localhost:8080/"
        },
        "id": "CzPAVCAb_Z8W",
        "outputId": "f879de46-f3ce-4976-a1ea-b1c21a7dd41d"
      },
      "execution_count": null,
      "outputs": [
        {
          "output_type": "stream",
          "name": "stdout",
          "text": [
            "7396\n",
            "4016\n"
          ]
        }
      ]
    },
    {
      "cell_type": "markdown",
      "source": [
        "For technical reasons, the number of h events is underestimated. In the real data, the h class represents the majority of the events.\n",
        "\n",
        "The simple classification accuracy is not meaningful for this data, since classifying a background event as signal is worse than classifying a signal event as background. For comparison of different classifiers an ROC curve has to be used."
      ],
      "metadata": {
        "id": "U8B1JcW447z-"
      }
    },
    {
      "cell_type": "code",
      "source": [
        "#UPDATED VERSION\n",
        "\n",
        "def scale_dataframe(dataframe, oversample = False):\n",
        "  X = dataframe[dataframe.columns[:-1]].values\n",
        "  y = dataframe[dataframe.columns[-1]].values\n",
        "\n",
        "  scaler = StandardScaler()\n",
        "  X = scaler.fit_transform(X)\n",
        "\n",
        "  if oversample: #default arg - True\n",
        "    ros = RandomOverSampler()\n",
        "    X,y = ros.fit_resample(X,y)\n",
        "    #what this does is, take the smaller class and keep sampling to increase the size of our dataset\n",
        "    #so that they now match\n",
        "\n",
        "  data = np.hstack((X,np.reshape(y, (-1,1))))\n",
        "\n",
        "\n",
        "  return data, X, y"
      ],
      "metadata": {
        "id": "_uQ8WmzDHCQh"
      },
      "execution_count": null,
      "outputs": []
    },
    {
      "cell_type": "code",
      "source": [
        "train, X_train, y_train = scale_dataframe(train, oversample = True)"
      ],
      "metadata": {
        "id": "YrSVTN1bJQ7K"
      },
      "execution_count": null,
      "outputs": []
    },
    {
      "cell_type": "code",
      "source": [
        "#only for my reference - unimportant - dont run\n",
        "Temp_train  = np.reshape(train, (-1,11))\n",
        "Temp_train\n",
        "#read into a file and then use pandas, do it later\n",
        "Temp_train_df = pd.DataFrame(Temp_train, columns = cols)\n",
        "Temp_train_df"
      ],
      "metadata": {
        "colab": {
          "base_uri": "https://localhost:8080/",
          "height": 443
        },
        "id": "k2xDeyn8BMbE",
        "outputId": "8f400531-2690-48b0-f320-f46d91b6c25e"
      },
      "execution_count": null,
      "outputs": [
        {
          "output_type": "execute_result",
          "data": {
            "text/plain": [
              "        fLength    fWidth     fSize     fConc    fConc1     fAsym   fM3Long  \\\n",
              "0     -0.014388  0.059813 -0.010125  0.012133  0.128376 -0.655023 -1.357554   \n",
              "1     -0.677556 -0.398081 -0.788092  0.289580  0.306743  0.247984  0.092343   \n",
              "2     -0.636622 -0.228547 -0.106760 -0.194442 -0.351211  0.205398  0.003165   \n",
              "3      0.390655 -0.155721  0.693507 -0.807023 -0.841720  0.670444  0.958249   \n",
              "4      0.682449  0.184749  1.102986 -0.904816 -0.809868 -0.313561  1.044557   \n",
              "...         ...       ...       ...       ...       ...       ...       ...   \n",
              "14787 -0.459410 -0.643507 -1.320542  0.286284  0.052844  0.210629  0.132734   \n",
              "14788  2.939824  5.345215  1.681948 -1.158089 -1.214834 -1.327329 -3.256020   \n",
              "14789  1.498646 -0.403617  0.466043 -0.817461 -0.647882 -3.456716  1.815792   \n",
              "14790 -0.534246 -0.495568 -0.403462  0.297821  0.588854  0.028176  0.148382   \n",
              "14791 -0.524380 -0.408550 -0.428949 -0.450462 -0.572350 -0.302026 -0.497973   \n",
              "\n",
              "       fM3Trans    fAlpha     fDist  class  \n",
              "0     -0.555381  0.576152 -2.138272    0.0  \n",
              "1      0.350190 -0.705648  0.334230    1.0  \n",
              "2      0.563202  0.019349 -1.472060    1.0  \n",
              "3     -0.408666 -0.891944  0.671197    1.0  \n",
              "4     -0.886764 -1.000130  1.908089    1.0  \n",
              "...         ...       ...       ...    ...  \n",
              "14787  0.430079  1.365543 -1.065014    0.0  \n",
              "14788  4.734757 -0.249620  1.114847    0.0  \n",
              "14789 -0.856493  0.431708  0.917590    0.0  \n",
              "14790  0.399554  1.641171 -1.575529    0.0  \n",
              "14791  0.405518  0.749785 -0.011955    0.0  \n",
              "\n",
              "[14792 rows x 11 columns]"
            ],
            "text/html": [
              "\n",
              "  <div id=\"df-24a5ed21-29e2-4300-b607-c408587e909f\" class=\"colab-df-container\">\n",
              "    <div>\n",
              "<style scoped>\n",
              "    .dataframe tbody tr th:only-of-type {\n",
              "        vertical-align: middle;\n",
              "    }\n",
              "\n",
              "    .dataframe tbody tr th {\n",
              "        vertical-align: top;\n",
              "    }\n",
              "\n",
              "    .dataframe thead th {\n",
              "        text-align: right;\n",
              "    }\n",
              "</style>\n",
              "<table border=\"1\" class=\"dataframe\">\n",
              "  <thead>\n",
              "    <tr style=\"text-align: right;\">\n",
              "      <th></th>\n",
              "      <th>fLength</th>\n",
              "      <th>fWidth</th>\n",
              "      <th>fSize</th>\n",
              "      <th>fConc</th>\n",
              "      <th>fConc1</th>\n",
              "      <th>fAsym</th>\n",
              "      <th>fM3Long</th>\n",
              "      <th>fM3Trans</th>\n",
              "      <th>fAlpha</th>\n",
              "      <th>fDist</th>\n",
              "      <th>class</th>\n",
              "    </tr>\n",
              "  </thead>\n",
              "  <tbody>\n",
              "    <tr>\n",
              "      <th>0</th>\n",
              "      <td>-0.014388</td>\n",
              "      <td>0.059813</td>\n",
              "      <td>-0.010125</td>\n",
              "      <td>0.012133</td>\n",
              "      <td>0.128376</td>\n",
              "      <td>-0.655023</td>\n",
              "      <td>-1.357554</td>\n",
              "      <td>-0.555381</td>\n",
              "      <td>0.576152</td>\n",
              "      <td>-2.138272</td>\n",
              "      <td>0.0</td>\n",
              "    </tr>\n",
              "    <tr>\n",
              "      <th>1</th>\n",
              "      <td>-0.677556</td>\n",
              "      <td>-0.398081</td>\n",
              "      <td>-0.788092</td>\n",
              "      <td>0.289580</td>\n",
              "      <td>0.306743</td>\n",
              "      <td>0.247984</td>\n",
              "      <td>0.092343</td>\n",
              "      <td>0.350190</td>\n",
              "      <td>-0.705648</td>\n",
              "      <td>0.334230</td>\n",
              "      <td>1.0</td>\n",
              "    </tr>\n",
              "    <tr>\n",
              "      <th>2</th>\n",
              "      <td>-0.636622</td>\n",
              "      <td>-0.228547</td>\n",
              "      <td>-0.106760</td>\n",
              "      <td>-0.194442</td>\n",
              "      <td>-0.351211</td>\n",
              "      <td>0.205398</td>\n",
              "      <td>0.003165</td>\n",
              "      <td>0.563202</td>\n",
              "      <td>0.019349</td>\n",
              "      <td>-1.472060</td>\n",
              "      <td>1.0</td>\n",
              "    </tr>\n",
              "    <tr>\n",
              "      <th>3</th>\n",
              "      <td>0.390655</td>\n",
              "      <td>-0.155721</td>\n",
              "      <td>0.693507</td>\n",
              "      <td>-0.807023</td>\n",
              "      <td>-0.841720</td>\n",
              "      <td>0.670444</td>\n",
              "      <td>0.958249</td>\n",
              "      <td>-0.408666</td>\n",
              "      <td>-0.891944</td>\n",
              "      <td>0.671197</td>\n",
              "      <td>1.0</td>\n",
              "    </tr>\n",
              "    <tr>\n",
              "      <th>4</th>\n",
              "      <td>0.682449</td>\n",
              "      <td>0.184749</td>\n",
              "      <td>1.102986</td>\n",
              "      <td>-0.904816</td>\n",
              "      <td>-0.809868</td>\n",
              "      <td>-0.313561</td>\n",
              "      <td>1.044557</td>\n",
              "      <td>-0.886764</td>\n",
              "      <td>-1.000130</td>\n",
              "      <td>1.908089</td>\n",
              "      <td>1.0</td>\n",
              "    </tr>\n",
              "    <tr>\n",
              "      <th>...</th>\n",
              "      <td>...</td>\n",
              "      <td>...</td>\n",
              "      <td>...</td>\n",
              "      <td>...</td>\n",
              "      <td>...</td>\n",
              "      <td>...</td>\n",
              "      <td>...</td>\n",
              "      <td>...</td>\n",
              "      <td>...</td>\n",
              "      <td>...</td>\n",
              "      <td>...</td>\n",
              "    </tr>\n",
              "    <tr>\n",
              "      <th>14787</th>\n",
              "      <td>-0.459410</td>\n",
              "      <td>-0.643507</td>\n",
              "      <td>-1.320542</td>\n",
              "      <td>0.286284</td>\n",
              "      <td>0.052844</td>\n",
              "      <td>0.210629</td>\n",
              "      <td>0.132734</td>\n",
              "      <td>0.430079</td>\n",
              "      <td>1.365543</td>\n",
              "      <td>-1.065014</td>\n",
              "      <td>0.0</td>\n",
              "    </tr>\n",
              "    <tr>\n",
              "      <th>14788</th>\n",
              "      <td>2.939824</td>\n",
              "      <td>5.345215</td>\n",
              "      <td>1.681948</td>\n",
              "      <td>-1.158089</td>\n",
              "      <td>-1.214834</td>\n",
              "      <td>-1.327329</td>\n",
              "      <td>-3.256020</td>\n",
              "      <td>4.734757</td>\n",
              "      <td>-0.249620</td>\n",
              "      <td>1.114847</td>\n",
              "      <td>0.0</td>\n",
              "    </tr>\n",
              "    <tr>\n",
              "      <th>14789</th>\n",
              "      <td>1.498646</td>\n",
              "      <td>-0.403617</td>\n",
              "      <td>0.466043</td>\n",
              "      <td>-0.817461</td>\n",
              "      <td>-0.647882</td>\n",
              "      <td>-3.456716</td>\n",
              "      <td>1.815792</td>\n",
              "      <td>-0.856493</td>\n",
              "      <td>0.431708</td>\n",
              "      <td>0.917590</td>\n",
              "      <td>0.0</td>\n",
              "    </tr>\n",
              "    <tr>\n",
              "      <th>14790</th>\n",
              "      <td>-0.534246</td>\n",
              "      <td>-0.495568</td>\n",
              "      <td>-0.403462</td>\n",
              "      <td>0.297821</td>\n",
              "      <td>0.588854</td>\n",
              "      <td>0.028176</td>\n",
              "      <td>0.148382</td>\n",
              "      <td>0.399554</td>\n",
              "      <td>1.641171</td>\n",
              "      <td>-1.575529</td>\n",
              "      <td>0.0</td>\n",
              "    </tr>\n",
              "    <tr>\n",
              "      <th>14791</th>\n",
              "      <td>-0.524380</td>\n",
              "      <td>-0.408550</td>\n",
              "      <td>-0.428949</td>\n",
              "      <td>-0.450462</td>\n",
              "      <td>-0.572350</td>\n",
              "      <td>-0.302026</td>\n",
              "      <td>-0.497973</td>\n",
              "      <td>0.405518</td>\n",
              "      <td>0.749785</td>\n",
              "      <td>-0.011955</td>\n",
              "      <td>0.0</td>\n",
              "    </tr>\n",
              "  </tbody>\n",
              "</table>\n",
              "<p>14792 rows × 11 columns</p>\n",
              "</div>\n",
              "    <div class=\"colab-df-buttons\">\n",
              "\n",
              "  <div class=\"colab-df-container\">\n",
              "    <button class=\"colab-df-convert\" onclick=\"convertToInteractive('df-24a5ed21-29e2-4300-b607-c408587e909f')\"\n",
              "            title=\"Convert this dataframe to an interactive table.\"\n",
              "            style=\"display:none;\">\n",
              "\n",
              "  <svg xmlns=\"http://www.w3.org/2000/svg\" height=\"24px\" viewBox=\"0 -960 960 960\">\n",
              "    <path d=\"M120-120v-720h720v720H120Zm60-500h600v-160H180v160Zm220 220h160v-160H400v160Zm0 220h160v-160H400v160ZM180-400h160v-160H180v160Zm440 0h160v-160H620v160ZM180-180h160v-160H180v160Zm440 0h160v-160H620v160Z\"/>\n",
              "  </svg>\n",
              "    </button>\n",
              "\n",
              "  <style>\n",
              "    .colab-df-container {\n",
              "      display:flex;\n",
              "      gap: 12px;\n",
              "    }\n",
              "\n",
              "    .colab-df-convert {\n",
              "      background-color: #E8F0FE;\n",
              "      border: none;\n",
              "      border-radius: 50%;\n",
              "      cursor: pointer;\n",
              "      display: none;\n",
              "      fill: #1967D2;\n",
              "      height: 32px;\n",
              "      padding: 0 0 0 0;\n",
              "      width: 32px;\n",
              "    }\n",
              "\n",
              "    .colab-df-convert:hover {\n",
              "      background-color: #E2EBFA;\n",
              "      box-shadow: 0px 1px 2px rgba(60, 64, 67, 0.3), 0px 1px 3px 1px rgba(60, 64, 67, 0.15);\n",
              "      fill: #174EA6;\n",
              "    }\n",
              "\n",
              "    .colab-df-buttons div {\n",
              "      margin-bottom: 4px;\n",
              "    }\n",
              "\n",
              "    [theme=dark] .colab-df-convert {\n",
              "      background-color: #3B4455;\n",
              "      fill: #D2E3FC;\n",
              "    }\n",
              "\n",
              "    [theme=dark] .colab-df-convert:hover {\n",
              "      background-color: #434B5C;\n",
              "      box-shadow: 0px 1px 3px 1px rgba(0, 0, 0, 0.15);\n",
              "      filter: drop-shadow(0px 1px 2px rgba(0, 0, 0, 0.3));\n",
              "      fill: #FFFFFF;\n",
              "    }\n",
              "  </style>\n",
              "\n",
              "    <script>\n",
              "      const buttonEl =\n",
              "        document.querySelector('#df-24a5ed21-29e2-4300-b607-c408587e909f button.colab-df-convert');\n",
              "      buttonEl.style.display =\n",
              "        google.colab.kernel.accessAllowed ? 'block' : 'none';\n",
              "\n",
              "      async function convertToInteractive(key) {\n",
              "        const element = document.querySelector('#df-24a5ed21-29e2-4300-b607-c408587e909f');\n",
              "        const dataTable =\n",
              "          await google.colab.kernel.invokeFunction('convertToInteractive',\n",
              "                                                    [key], {});\n",
              "        if (!dataTable) return;\n",
              "\n",
              "        const docLinkHtml = 'Like what you see? Visit the ' +\n",
              "          '<a target=\"_blank\" href=https://colab.research.google.com/notebooks/data_table.ipynb>data table notebook</a>'\n",
              "          + ' to learn more about interactive tables.';\n",
              "        element.innerHTML = '';\n",
              "        dataTable['output_type'] = 'display_data';\n",
              "        await google.colab.output.renderOutput(dataTable, element);\n",
              "        const docLink = document.createElement('div');\n",
              "        docLink.innerHTML = docLinkHtml;\n",
              "        element.appendChild(docLink);\n",
              "      }\n",
              "    </script>\n",
              "  </div>\n",
              "\n",
              "\n",
              "<div id=\"df-765beaa1-10d8-43f1-bef3-ff52be1ce1ff\">\n",
              "  <button class=\"colab-df-quickchart\" onclick=\"quickchart('df-765beaa1-10d8-43f1-bef3-ff52be1ce1ff')\"\n",
              "            title=\"Suggest charts.\"\n",
              "            style=\"display:none;\">\n",
              "\n",
              "<svg xmlns=\"http://www.w3.org/2000/svg\" height=\"24px\"viewBox=\"0 0 24 24\"\n",
              "     width=\"24px\">\n",
              "    <g>\n",
              "        <path d=\"M19 3H5c-1.1 0-2 .9-2 2v14c0 1.1.9 2 2 2h14c1.1 0 2-.9 2-2V5c0-1.1-.9-2-2-2zM9 17H7v-7h2v7zm4 0h-2V7h2v10zm4 0h-2v-4h2v4z\"/>\n",
              "    </g>\n",
              "</svg>\n",
              "  </button>\n",
              "\n",
              "<style>\n",
              "  .colab-df-quickchart {\n",
              "    background-color: #E8F0FE;\n",
              "    border: none;\n",
              "    border-radius: 50%;\n",
              "    cursor: pointer;\n",
              "    display: none;\n",
              "    fill: #1967D2;\n",
              "    height: 32px;\n",
              "    padding: 0 0 0 0;\n",
              "    width: 32px;\n",
              "  }\n",
              "\n",
              "  .colab-df-quickchart:hover {\n",
              "    background-color: #E2EBFA;\n",
              "    box-shadow: 0px 1px 2px rgba(60, 64, 67, 0.3), 0px 1px 3px 1px rgba(60, 64, 67, 0.15);\n",
              "    fill: #174EA6;\n",
              "  }\n",
              "\n",
              "  [theme=dark] .colab-df-quickchart {\n",
              "    background-color: #3B4455;\n",
              "    fill: #D2E3FC;\n",
              "  }\n",
              "\n",
              "  [theme=dark] .colab-df-quickchart:hover {\n",
              "    background-color: #434B5C;\n",
              "    box-shadow: 0px 1px 3px 1px rgba(0, 0, 0, 0.15);\n",
              "    filter: drop-shadow(0px 1px 2px rgba(0, 0, 0, 0.3));\n",
              "    fill: #FFFFFF;\n",
              "  }\n",
              "</style>\n",
              "\n",
              "  <script>\n",
              "    async function quickchart(key) {\n",
              "      const charts = await google.colab.kernel.invokeFunction(\n",
              "          'suggestCharts', [key], {});\n",
              "    }\n",
              "    (() => {\n",
              "      let quickchartButtonEl =\n",
              "        document.querySelector('#df-765beaa1-10d8-43f1-bef3-ff52be1ce1ff button');\n",
              "      quickchartButtonEl.style.display =\n",
              "        google.colab.kernel.accessAllowed ? 'block' : 'none';\n",
              "    })();\n",
              "  </script>\n",
              "</div>\n",
              "    </div>\n",
              "  </div>\n"
            ]
          },
          "metadata": {},
          "execution_count": 15
        }
      ]
    },
    {
      "cell_type": "code",
      "source": [
        "#unimportant - dont run\n",
        "df"
      ],
      "metadata": {
        "id": "jjseiFNrDV0H",
        "outputId": "40d078be-d572-4b9c-f57b-4c23cb3c81c5",
        "colab": {
          "base_uri": "https://localhost:8080/",
          "height": 423
        }
      },
      "execution_count": null,
      "outputs": [
        {
          "output_type": "execute_result",
          "data": {
            "text/plain": [
              "        fLength    fWidth   fSize   fConc  fConc1     fAsym   fM3Long  \\\n",
              "0       28.7967   16.0021  2.6449  0.3918  0.1982   27.7004   22.0110   \n",
              "1       31.6036   11.7235  2.5185  0.5303  0.3773   26.2722   23.8238   \n",
              "2      162.0520  136.0310  4.0612  0.0374  0.0187  116.7410  -64.8580   \n",
              "3       23.8172    9.5728  2.3385  0.6147  0.3922   27.2107   -6.4633   \n",
              "4       75.1362   30.9205  3.1611  0.3168  0.1832   -5.5277   28.5525   \n",
              "...         ...       ...     ...     ...     ...       ...       ...   \n",
              "19015   21.3846   10.9170  2.6161  0.5857  0.3934   15.2618   11.5245   \n",
              "19016   28.9452    6.7020  2.2672  0.5351  0.2784   37.0816   13.1853   \n",
              "19017   75.4455   47.5305  3.4483  0.1417  0.0549   -9.3561   41.0562   \n",
              "19018  120.5135   76.9018  3.9939  0.0944  0.0683    5.8043  -93.5224   \n",
              "19019  187.1814   53.0014  3.2093  0.2876  0.1539 -167.3125 -168.4558   \n",
              "\n",
              "       fM3Trans   fAlpha     fDist  class  \n",
              "0       -8.2027  40.0920   81.8828      1  \n",
              "1       -9.9574   6.3609  205.2610      1  \n",
              "2      -45.2160  76.9600  256.7880      1  \n",
              "3       -7.1513  10.4490  116.7370      1  \n",
              "4       21.8393   4.6480  356.4620      1  \n",
              "...         ...      ...       ...    ...  \n",
              "19015    2.8766   2.4229  106.8258      0  \n",
              "19016   -2.9632  86.7975  247.4560      0  \n",
              "19017   -9.4662  30.2987  256.5166      0  \n",
              "19018  -63.8389  84.6874  408.3166      0  \n",
              "19019   31.4755  52.7310  272.3174      0  \n",
              "\n",
              "[19020 rows x 11 columns]"
            ],
            "text/html": [
              "\n",
              "  <div id=\"df-21284185-170b-40d4-bd0e-a70a2b3ecc18\" class=\"colab-df-container\">\n",
              "    <div>\n",
              "<style scoped>\n",
              "    .dataframe tbody tr th:only-of-type {\n",
              "        vertical-align: middle;\n",
              "    }\n",
              "\n",
              "    .dataframe tbody tr th {\n",
              "        vertical-align: top;\n",
              "    }\n",
              "\n",
              "    .dataframe thead th {\n",
              "        text-align: right;\n",
              "    }\n",
              "</style>\n",
              "<table border=\"1\" class=\"dataframe\">\n",
              "  <thead>\n",
              "    <tr style=\"text-align: right;\">\n",
              "      <th></th>\n",
              "      <th>fLength</th>\n",
              "      <th>fWidth</th>\n",
              "      <th>fSize</th>\n",
              "      <th>fConc</th>\n",
              "      <th>fConc1</th>\n",
              "      <th>fAsym</th>\n",
              "      <th>fM3Long</th>\n",
              "      <th>fM3Trans</th>\n",
              "      <th>fAlpha</th>\n",
              "      <th>fDist</th>\n",
              "      <th>class</th>\n",
              "    </tr>\n",
              "  </thead>\n",
              "  <tbody>\n",
              "    <tr>\n",
              "      <th>0</th>\n",
              "      <td>28.7967</td>\n",
              "      <td>16.0021</td>\n",
              "      <td>2.6449</td>\n",
              "      <td>0.3918</td>\n",
              "      <td>0.1982</td>\n",
              "      <td>27.7004</td>\n",
              "      <td>22.0110</td>\n",
              "      <td>-8.2027</td>\n",
              "      <td>40.0920</td>\n",
              "      <td>81.8828</td>\n",
              "      <td>1</td>\n",
              "    </tr>\n",
              "    <tr>\n",
              "      <th>1</th>\n",
              "      <td>31.6036</td>\n",
              "      <td>11.7235</td>\n",
              "      <td>2.5185</td>\n",
              "      <td>0.5303</td>\n",
              "      <td>0.3773</td>\n",
              "      <td>26.2722</td>\n",
              "      <td>23.8238</td>\n",
              "      <td>-9.9574</td>\n",
              "      <td>6.3609</td>\n",
              "      <td>205.2610</td>\n",
              "      <td>1</td>\n",
              "    </tr>\n",
              "    <tr>\n",
              "      <th>2</th>\n",
              "      <td>162.0520</td>\n",
              "      <td>136.0310</td>\n",
              "      <td>4.0612</td>\n",
              "      <td>0.0374</td>\n",
              "      <td>0.0187</td>\n",
              "      <td>116.7410</td>\n",
              "      <td>-64.8580</td>\n",
              "      <td>-45.2160</td>\n",
              "      <td>76.9600</td>\n",
              "      <td>256.7880</td>\n",
              "      <td>1</td>\n",
              "    </tr>\n",
              "    <tr>\n",
              "      <th>3</th>\n",
              "      <td>23.8172</td>\n",
              "      <td>9.5728</td>\n",
              "      <td>2.3385</td>\n",
              "      <td>0.6147</td>\n",
              "      <td>0.3922</td>\n",
              "      <td>27.2107</td>\n",
              "      <td>-6.4633</td>\n",
              "      <td>-7.1513</td>\n",
              "      <td>10.4490</td>\n",
              "      <td>116.7370</td>\n",
              "      <td>1</td>\n",
              "    </tr>\n",
              "    <tr>\n",
              "      <th>4</th>\n",
              "      <td>75.1362</td>\n",
              "      <td>30.9205</td>\n",
              "      <td>3.1611</td>\n",
              "      <td>0.3168</td>\n",
              "      <td>0.1832</td>\n",
              "      <td>-5.5277</td>\n",
              "      <td>28.5525</td>\n",
              "      <td>21.8393</td>\n",
              "      <td>4.6480</td>\n",
              "      <td>356.4620</td>\n",
              "      <td>1</td>\n",
              "    </tr>\n",
              "    <tr>\n",
              "      <th>...</th>\n",
              "      <td>...</td>\n",
              "      <td>...</td>\n",
              "      <td>...</td>\n",
              "      <td>...</td>\n",
              "      <td>...</td>\n",
              "      <td>...</td>\n",
              "      <td>...</td>\n",
              "      <td>...</td>\n",
              "      <td>...</td>\n",
              "      <td>...</td>\n",
              "      <td>...</td>\n",
              "    </tr>\n",
              "    <tr>\n",
              "      <th>19015</th>\n",
              "      <td>21.3846</td>\n",
              "      <td>10.9170</td>\n",
              "      <td>2.6161</td>\n",
              "      <td>0.5857</td>\n",
              "      <td>0.3934</td>\n",
              "      <td>15.2618</td>\n",
              "      <td>11.5245</td>\n",
              "      <td>2.8766</td>\n",
              "      <td>2.4229</td>\n",
              "      <td>106.8258</td>\n",
              "      <td>0</td>\n",
              "    </tr>\n",
              "    <tr>\n",
              "      <th>19016</th>\n",
              "      <td>28.9452</td>\n",
              "      <td>6.7020</td>\n",
              "      <td>2.2672</td>\n",
              "      <td>0.5351</td>\n",
              "      <td>0.2784</td>\n",
              "      <td>37.0816</td>\n",
              "      <td>13.1853</td>\n",
              "      <td>-2.9632</td>\n",
              "      <td>86.7975</td>\n",
              "      <td>247.4560</td>\n",
              "      <td>0</td>\n",
              "    </tr>\n",
              "    <tr>\n",
              "      <th>19017</th>\n",
              "      <td>75.4455</td>\n",
              "      <td>47.5305</td>\n",
              "      <td>3.4483</td>\n",
              "      <td>0.1417</td>\n",
              "      <td>0.0549</td>\n",
              "      <td>-9.3561</td>\n",
              "      <td>41.0562</td>\n",
              "      <td>-9.4662</td>\n",
              "      <td>30.2987</td>\n",
              "      <td>256.5166</td>\n",
              "      <td>0</td>\n",
              "    </tr>\n",
              "    <tr>\n",
              "      <th>19018</th>\n",
              "      <td>120.5135</td>\n",
              "      <td>76.9018</td>\n",
              "      <td>3.9939</td>\n",
              "      <td>0.0944</td>\n",
              "      <td>0.0683</td>\n",
              "      <td>5.8043</td>\n",
              "      <td>-93.5224</td>\n",
              "      <td>-63.8389</td>\n",
              "      <td>84.6874</td>\n",
              "      <td>408.3166</td>\n",
              "      <td>0</td>\n",
              "    </tr>\n",
              "    <tr>\n",
              "      <th>19019</th>\n",
              "      <td>187.1814</td>\n",
              "      <td>53.0014</td>\n",
              "      <td>3.2093</td>\n",
              "      <td>0.2876</td>\n",
              "      <td>0.1539</td>\n",
              "      <td>-167.3125</td>\n",
              "      <td>-168.4558</td>\n",
              "      <td>31.4755</td>\n",
              "      <td>52.7310</td>\n",
              "      <td>272.3174</td>\n",
              "      <td>0</td>\n",
              "    </tr>\n",
              "  </tbody>\n",
              "</table>\n",
              "<p>19020 rows × 11 columns</p>\n",
              "</div>\n",
              "    <div class=\"colab-df-buttons\">\n",
              "\n",
              "  <div class=\"colab-df-container\">\n",
              "    <button class=\"colab-df-convert\" onclick=\"convertToInteractive('df-21284185-170b-40d4-bd0e-a70a2b3ecc18')\"\n",
              "            title=\"Convert this dataframe to an interactive table.\"\n",
              "            style=\"display:none;\">\n",
              "\n",
              "  <svg xmlns=\"http://www.w3.org/2000/svg\" height=\"24px\" viewBox=\"0 -960 960 960\">\n",
              "    <path d=\"M120-120v-720h720v720H120Zm60-500h600v-160H180v160Zm220 220h160v-160H400v160Zm0 220h160v-160H400v160ZM180-400h160v-160H180v160Zm440 0h160v-160H620v160ZM180-180h160v-160H180v160Zm440 0h160v-160H620v160Z\"/>\n",
              "  </svg>\n",
              "    </button>\n",
              "\n",
              "  <style>\n",
              "    .colab-df-container {\n",
              "      display:flex;\n",
              "      gap: 12px;\n",
              "    }\n",
              "\n",
              "    .colab-df-convert {\n",
              "      background-color: #E8F0FE;\n",
              "      border: none;\n",
              "      border-radius: 50%;\n",
              "      cursor: pointer;\n",
              "      display: none;\n",
              "      fill: #1967D2;\n",
              "      height: 32px;\n",
              "      padding: 0 0 0 0;\n",
              "      width: 32px;\n",
              "    }\n",
              "\n",
              "    .colab-df-convert:hover {\n",
              "      background-color: #E2EBFA;\n",
              "      box-shadow: 0px 1px 2px rgba(60, 64, 67, 0.3), 0px 1px 3px 1px rgba(60, 64, 67, 0.15);\n",
              "      fill: #174EA6;\n",
              "    }\n",
              "\n",
              "    .colab-df-buttons div {\n",
              "      margin-bottom: 4px;\n",
              "    }\n",
              "\n",
              "    [theme=dark] .colab-df-convert {\n",
              "      background-color: #3B4455;\n",
              "      fill: #D2E3FC;\n",
              "    }\n",
              "\n",
              "    [theme=dark] .colab-df-convert:hover {\n",
              "      background-color: #434B5C;\n",
              "      box-shadow: 0px 1px 3px 1px rgba(0, 0, 0, 0.15);\n",
              "      filter: drop-shadow(0px 1px 2px rgba(0, 0, 0, 0.3));\n",
              "      fill: #FFFFFF;\n",
              "    }\n",
              "  </style>\n",
              "\n",
              "    <script>\n",
              "      const buttonEl =\n",
              "        document.querySelector('#df-21284185-170b-40d4-bd0e-a70a2b3ecc18 button.colab-df-convert');\n",
              "      buttonEl.style.display =\n",
              "        google.colab.kernel.accessAllowed ? 'block' : 'none';\n",
              "\n",
              "      async function convertToInteractive(key) {\n",
              "        const element = document.querySelector('#df-21284185-170b-40d4-bd0e-a70a2b3ecc18');\n",
              "        const dataTable =\n",
              "          await google.colab.kernel.invokeFunction('convertToInteractive',\n",
              "                                                    [key], {});\n",
              "        if (!dataTable) return;\n",
              "\n",
              "        const docLinkHtml = 'Like what you see? Visit the ' +\n",
              "          '<a target=\"_blank\" href=https://colab.research.google.com/notebooks/data_table.ipynb>data table notebook</a>'\n",
              "          + ' to learn more about interactive tables.';\n",
              "        element.innerHTML = '';\n",
              "        dataTable['output_type'] = 'display_data';\n",
              "        await google.colab.output.renderOutput(dataTable, element);\n",
              "        const docLink = document.createElement('div');\n",
              "        docLink.innerHTML = docLinkHtml;\n",
              "        element.appendChild(docLink);\n",
              "      }\n",
              "    </script>\n",
              "  </div>\n",
              "\n",
              "\n",
              "<div id=\"df-096d966d-d556-4d8c-bc87-055afff0d689\">\n",
              "  <button class=\"colab-df-quickchart\" onclick=\"quickchart('df-096d966d-d556-4d8c-bc87-055afff0d689')\"\n",
              "            title=\"Suggest charts.\"\n",
              "            style=\"display:none;\">\n",
              "\n",
              "<svg xmlns=\"http://www.w3.org/2000/svg\" height=\"24px\"viewBox=\"0 0 24 24\"\n",
              "     width=\"24px\">\n",
              "    <g>\n",
              "        <path d=\"M19 3H5c-1.1 0-2 .9-2 2v14c0 1.1.9 2 2 2h14c1.1 0 2-.9 2-2V5c0-1.1-.9-2-2-2zM9 17H7v-7h2v7zm4 0h-2V7h2v10zm4 0h-2v-4h2v4z\"/>\n",
              "    </g>\n",
              "</svg>\n",
              "  </button>\n",
              "\n",
              "<style>\n",
              "  .colab-df-quickchart {\n",
              "    background-color: #E8F0FE;\n",
              "    border: none;\n",
              "    border-radius: 50%;\n",
              "    cursor: pointer;\n",
              "    display: none;\n",
              "    fill: #1967D2;\n",
              "    height: 32px;\n",
              "    padding: 0 0 0 0;\n",
              "    width: 32px;\n",
              "  }\n",
              "\n",
              "  .colab-df-quickchart:hover {\n",
              "    background-color: #E2EBFA;\n",
              "    box-shadow: 0px 1px 2px rgba(60, 64, 67, 0.3), 0px 1px 3px 1px rgba(60, 64, 67, 0.15);\n",
              "    fill: #174EA6;\n",
              "  }\n",
              "\n",
              "  [theme=dark] .colab-df-quickchart {\n",
              "    background-color: #3B4455;\n",
              "    fill: #D2E3FC;\n",
              "  }\n",
              "\n",
              "  [theme=dark] .colab-df-quickchart:hover {\n",
              "    background-color: #434B5C;\n",
              "    box-shadow: 0px 1px 3px 1px rgba(0, 0, 0, 0.15);\n",
              "    filter: drop-shadow(0px 1px 2px rgba(0, 0, 0, 0.3));\n",
              "    fill: #FFFFFF;\n",
              "  }\n",
              "</style>\n",
              "\n",
              "  <script>\n",
              "    async function quickchart(key) {\n",
              "      const charts = await google.colab.kernel.invokeFunction(\n",
              "          'suggestCharts', [key], {});\n",
              "    }\n",
              "    (() => {\n",
              "      let quickchartButtonEl =\n",
              "        document.querySelector('#df-096d966d-d556-4d8c-bc87-055afff0d689 button');\n",
              "      quickchartButtonEl.style.display =\n",
              "        google.colab.kernel.accessAllowed ? 'block' : 'none';\n",
              "    })();\n",
              "  </script>\n",
              "</div>\n",
              "    </div>\n",
              "  </div>\n"
            ]
          },
          "metadata": {},
          "execution_count": 16
        }
      ]
    },
    {
      "cell_type": "code",
      "source": [
        "#unimportant - dont run\n",
        "for labels in cols[:-1]:\n",
        "  #therefore for everything column label except the last, class.\n",
        "  #up till the last item\n",
        "   plt.hist(Temp_train_df[Temp_train_df[\"class\"]==1.0] [labels], color = 'blue', label = 'gamma', alpha = 0.7, density = True)\n",
        "   plt.hist(Temp_train_df[Temp_train_df[\"class\"]==0.0] [labels], color = 'red', label = 'hadron', alpha = 0.7, density = True)\n",
        "   plt.title(labels)\n",
        "   plt.ylabel(\"Probability\")\n",
        "   plt.xlabel(labels)\n",
        "   plt.legend()\n",
        "   plt.show()"
      ],
      "metadata": {
        "id": "CUCpGyPQEGmy",
        "outputId": "b87b7182-be77-44ad-dea1-e2fb931540b3",
        "colab": {
          "base_uri": "https://localhost:8080/",
          "height": 1000
        }
      },
      "execution_count": null,
      "outputs": [
        {
          "output_type": "display_data",
          "data": {
            "text/plain": [
              "<Figure size 640x480 with 1 Axes>"
            ],
            "image/png": "[encoded data removed]"
          },
          "metadata": {}
        },
        {
          "output_type": "display_data",
          "data": {
            "text/plain": [
              "<Figure size 640x480 with 1 Axes>"
            ],
            "image/png": "[encoded data removed]"
          },
          "metadata": {}
        },
        {
          "output_type": "display_data",
          "data": {
            "text/plain": [
              "<Figure size 640x480 with 1 Axes>"
            ],
            "image/png": "[encoded data removed]"
          },
          "metadata": {}
        },
        {
          "output_type": "display_data",
          "data": {
            "text/plain": [
              "<Figure size 640x480 with 1 Axes>"
            ],
            "image/png": "[encoded data removed]"
          },
          "metadata": {}
        },
        {
          "output_type": "display_data",
          "data": {
            "text/plain": [
              "<Figure size 640x480 with 1 Axes>"
            ],
            "image/png": "[encoded data removed]"
          },
          "metadata": {}
        },
        {
          "output_type": "display_data",
          "data": {
            "text/plain": [
              "<Figure size 640x480 with 1 Axes>"
            ],
            "image/png": "[encoded data removed]"
          },
          "metadata": {}
        },
        {
          "output_type": "display_data",
          "data": {
            "text/plain": [
              "<Figure size 640x480 with 1 Axes>"
            ],
            "image/png": "[encoded data removed]"
          },
          "metadata": {}
        },
        {
          "output_type": "display_data",
          "data": {
            "text/plain": [
              "<Figure size 640x480 with 1 Axes>"
            ],
            "image/png": "[encoded data removed]"
          },
          "metadata": {}
        },
        {
          "output_type": "display_data",
          "data": {
            "text/plain": [
              "<Figure size 640x480 with 1 Axes>"
            ],
            "image/png": "[encoded data removed]"
          },
          "metadata": {}
        },
        {
          "output_type": "display_data",
          "data": {
            "text/plain": [
              "<Figure size 640x480 with 1 Axes>"
            ],
            "image/png": "[encoded data removed]"
          },
          "metadata": {}
        }
      ]
    },
    {
      "cell_type": "markdown",
      "source": [
        "**Only for reference**\n",
        "\n",
        "So, in the above cell has, the new temporary dataframe has been put through both a RandomOverSampler and StandardScaler, which has helped standardize the dataset to exclude massive variations in data, while still maintaining the overall ratio/picture/proportions. When compared with the original df, there are slight differences (caused by random oversampling) but the overall shape fo the histogram remains the same. Also the Y-axis has been standardized to only have a single decimal point."
      ],
      "metadata": {
        "id": "uah32xsXFSI8"
      }
    },
    {
      "cell_type": "code",
      "source": [
        "len(y_train)"
      ],
      "metadata": {
        "colab": {
          "base_uri": "https://localhost:8080/"
        },
        "id": "QC5pPzCDKlZu",
        "outputId": "fb7e5e02-c269-4c42-9e44-c965b94afd86"
      },
      "execution_count": null,
      "outputs": [
        {
          "output_type": "execute_result",
          "data": {
            "text/plain": [
              "14792"
            ]
          },
          "metadata": {},
          "execution_count": 18
        }
      ]
    },
    {
      "cell_type": "code",
      "source": [
        "print(sum(y_train == 1))\n",
        "print(sum(y_train == 0))"
      ],
      "metadata": {
        "colab": {
          "base_uri": "https://localhost:8080/"
        },
        "id": "Ji2Ti8Z5KnRD",
        "outputId": "a744c730-c8ce-46b4-aa93-fb2ed303e20c"
      },
      "execution_count": null,
      "outputs": [
        {
          "output_type": "stream",
          "name": "stdout",
          "text": [
            "7396\n",
            "7396\n"
          ]
        }
      ]
    },
    {
      "cell_type": "code",
      "source": [
        "print(sum(train == 1))\n",
        "print(sum(train == 0))"
      ],
      "metadata": {
        "id": "dl5DxMOSFiPl",
        "outputId": "cdaf5552-dc2e-48f0-cce1-1c23696adca7",
        "colab": {
          "base_uri": "https://localhost:8080/"
        }
      },
      "execution_count": null,
      "outputs": [
        {
          "output_type": "stream",
          "name": "stdout",
          "text": [
            "[   0    0    0    0    0    0    0    0    0    0 7396]\n",
            "[   0    0    0    0    0    0    0    0    0    0 7396]\n"
          ]
        }
      ]
    },
    {
      "cell_type": "markdown",
      "source": [
        "They are equal now.\n",
        "They are balanced now.\n",
        "\n",
        "Lets do the same for all datasets"
      ],
      "metadata": {
        "id": "CqfiGg1FKt-G"
      }
    },
    {
      "cell_type": "code",
      "source": [
        "valid, X_valid, y_valid = scale_dataframe(valid, oversample = False)\n",
        "test, X_test, y_test = scale_dataframe(test, oversample = False)\n",
        "\n",
        "#we switch oversample to false, why?\n",
        "#reason - we wanna see the performce of our model on the two\n",
        "#we dont wanna oversample, they have to random\n",
        "#in order to establish trust in the model"
      ],
      "metadata": {
        "id": "hct89PzgLCdQ"
      },
      "execution_count": null,
      "outputs": []
    },
    {
      "cell_type": "markdown",
      "source": [
        "## Time to learn about models\n",
        "\n",
        "Now we will attempt to use different models to arrive at different outcomes."
      ],
      "metadata": {
        "id": "JG10P9R9L4JA"
      }
    },
    {
      "cell_type": "markdown",
      "source": [
        "## Basic Classification Models"
      ],
      "metadata": {
        "id": "q5cZCgAHGi6-"
      }
    },
    {
      "cell_type": "markdown",
      "source": [
        "### kNN\n",
        "\n",
        "K-Nearest Neighbors Algorithm.\n",
        "\n",
        "The k-nearest neighbors algorithm, also known as KNN or k-NN, is a non-parametric, supervised learning classifier, which uses proximity to make classifications or predictions about the grouping of an individual data point."
      ],
      "metadata": {
        "id": "WxSaGydY5Yqy"
      }
    },
    {
      "cell_type": "code",
      "source": [
        "from sklearn.neighbors import KNeighborsClassifier\n",
        "#scikit learn\n",
        "#M/L Library It features various classification, regression and clustering algorithms\n",
        "#including support-vector machines, random forests, gradient boosting, k-means and DBSCAN,\n",
        "#and is designed to interoperate with the Python numerical and scientific libraries NumPy and SciPy."
      ],
      "metadata": {
        "id": "ZkT83UbsNfoo"
      },
      "execution_count": null,
      "outputs": []
    },
    {
      "cell_type": "code",
      "source": [
        "knn_model = KNeighborsClassifier(n_neighbors = 1)\n",
        "knn_model.fit(X_train, y_train)"
      ],
      "metadata": {
        "colab": {
          "base_uri": "https://localhost:8080/",
          "height": 74
        },
        "id": "PaJsfrmJQA9A",
        "outputId": "0ba8a597-8230-466b-f0dc-f8e1d03288e8"
      },
      "execution_count": null,
      "outputs": [
        {
          "output_type": "execute_result",
          "data": {
            "text/plain": [
              "KNeighborsClassifier(n_neighbors=1)"
            ],
            "text/html": [
              "<style>#sk-container-id-1 {color: black;background-color: white;}#sk-container-id-1 pre{padding: 0;}#sk-container-id-1 div.sk-toggleable {background-color: white;}#sk-container-id-1 label.sk-toggleable__label {cursor: pointer;display: block;width: 100%;margin-bottom: 0;padding: 0.3em;box-sizing: border-box;text-align: center;}#sk-container-id-1 label.sk-toggleable__label-arrow:before {content: \"▸\";float: left;margin-right: 0.25em;color: #696969;}#sk-container-id-1 label.sk-toggleable__label-arrow:hover:before {color: black;}#sk-container-id-1 div.sk-estimator:hover label.sk-toggleable__label-arrow:before {color: black;}#sk-container-id-1 div.sk-toggleable__content {max-height: 0;max-width: 0;overflow: hidden;text-align: left;background-color: #f0f8ff;}#sk-container-id-1 div.sk-toggleable__content pre {margin: 0.2em;color: black;border-radius: 0.25em;background-color: #f0f8ff;}#sk-container-id-1 input.sk-toggleable__control:checked~div.sk-toggleable__content {max-height: 200px;max-width: 100%;overflow: auto;}#sk-container-id-1 input.sk-toggleable__control:checked~label.sk-toggleable__label-arrow:before {content: \"▾\";}#sk-container-id-1 div.sk-estimator input.sk-toggleable__control:checked~label.sk-toggleable__label {background-color: #d4ebff;}#sk-container-id-1 div.sk-label input.sk-toggleable__control:checked~label.sk-toggleable__label {background-color: #d4ebff;}#sk-container-id-1 input.sk-hidden--visually {border: 0;clip: rect(1px 1px 1px 1px);clip: rect(1px, 1px, 1px, 1px);height: 1px;margin: -1px;overflow: hidden;padding: 0;position: absolute;width: 1px;}#sk-container-id-1 div.sk-estimator {font-family: monospace;background-color: #f0f8ff;border: 1px dotted black;border-radius: 0.25em;box-sizing: border-box;margin-bottom: 0.5em;}#sk-container-id-1 div.sk-estimator:hover {background-color: #d4ebff;}#sk-container-id-1 div.sk-parallel-item::after {content: \"\";width: 100%;border-bottom: 1px solid gray;flex-grow: 1;}#sk-container-id-1 div.sk-label:hover label.sk-toggleable__label {background-color: #d4ebff;}#sk-container-id-1 div.sk-serial::before {content: \"\";position: absolute;border-left: 1px solid gray;box-sizing: border-box;top: 0;bottom: 0;left: 50%;z-index: 0;}#sk-container-id-1 div.sk-serial {display: flex;flex-direction: column;align-items: center;background-color: white;padding-right: 0.2em;padding-left: 0.2em;position: relative;}#sk-container-id-1 div.sk-item {position: relative;z-index: 1;}#sk-container-id-1 div.sk-parallel {display: flex;align-items: stretch;justify-content: center;background-color: white;position: relative;}#sk-container-id-1 div.sk-item::before, #sk-container-id-1 div.sk-parallel-item::before {content: \"\";position: absolute;border-left: 1px solid gray;box-sizing: border-box;top: 0;bottom: 0;left: 50%;z-index: -1;}#sk-container-id-1 div.sk-parallel-item {display: flex;flex-direction: column;z-index: 1;position: relative;background-color: white;}#sk-container-id-1 div.sk-parallel-item:first-child::after {align-self: flex-end;width: 50%;}#sk-container-id-1 div.sk-parallel-item:last-child::after {align-self: flex-start;width: 50%;}#sk-container-id-1 div.sk-parallel-item:only-child::after {width: 0;}#sk-container-id-1 div.sk-dashed-wrapped {border: 1px dashed gray;margin: 0 0.4em 0.5em 0.4em;box-sizing: border-box;padding-bottom: 0.4em;background-color: white;}#sk-container-id-1 div.sk-label label {font-family: monospace;font-weight: bold;display: inline-block;line-height: 1.2em;}#sk-container-id-1 div.sk-label-container {text-align: center;}#sk-container-id-1 div.sk-container {/* jupyter's `normalize.less` sets `[hidden] { display: none; }` but bootstrap.min.css set `[hidden] { display: none !important; }` so we also need the `!important` here to be able to override the default hidden behavior on the sphinx rendered scikit-learn.org. See: https://github.com/scikit-learn/scikit-learn/issues/21755 */display: inline-block !important;position: relative;}#sk-container-id-1 div.sk-text-repr-fallback {display: none;}</style><div id=\"sk-container-id-1\" class=\"sk-top-container\"><div class=\"sk-text-repr-fallback\"><pre>KNeighborsClassifier(n_neighbors=1)</pre><b>In a Jupyter environment, please rerun this cell to show the HTML representation or trust the notebook. <br />On GitHub, the HTML representation is unable to render, please try loading this page with nbviewer.org.</b></div><div class=\"sk-container\" hidden><div class=\"sk-item\"><div class=\"sk-estimator sk-toggleable\"><input class=\"sk-toggleable__control sk-hidden--visually\" id=\"sk-estimator-id-1\" type=\"checkbox\" checked><label for=\"sk-estimator-id-1\" class=\"sk-toggleable__label sk-toggleable__label-arrow\">KNeighborsClassifier</label><div class=\"sk-toggleable__content\"><pre>KNeighborsClassifier(n_neighbors=1)</pre></div></div></div></div></div>"
            ]
          },
          "metadata": {},
          "execution_count": 23
        }
      ]
    },
    {
      "cell_type": "code",
      "source": [
        "y_pred = knn_model.predict(X_test)"
      ],
      "metadata": {
        "id": "HRh3UdXfUSCd"
      },
      "execution_count": null,
      "outputs": []
    },
    {
      "cell_type": "code",
      "source": [
        "y_pred\n",
        "#predictive values for that dataset"
      ],
      "metadata": {
        "colab": {
          "base_uri": "https://localhost:8080/"
        },
        "id": "PVZVGLNxUcNM",
        "outputId": "929c9c81-02fc-4000-9938-ffefd4f543c8"
      },
      "execution_count": null,
      "outputs": [
        {
          "output_type": "execute_result",
          "data": {
            "text/plain": [
              "array([1, 1, 1, ..., 1, 1, 1])"
            ]
          },
          "metadata": {},
          "execution_count": 25
        }
      ]
    },
    {
      "cell_type": "code",
      "source": [
        "y_test\n",
        "#actual values for that dataset"
      ],
      "metadata": {
        "colab": {
          "base_uri": "https://localhost:8080/"
        },
        "id": "dIJ2m8DZUeiT",
        "outputId": "6de6c37c-6ab8-4dcf-f472-63a7a1202fea"
      },
      "execution_count": null,
      "outputs": [
        {
          "output_type": "execute_result",
          "data": {
            "text/plain": [
              "array([1, 0, 1, ..., 1, 1, 1])"
            ]
          },
          "metadata": {},
          "execution_count": 26
        }
      ]
    },
    {
      "cell_type": "markdown",
      "source": [
        "### Classification Report\n",
        "\n",
        "Lets take a look at classification report provided by sklearn\n",
        "\n",
        "sklearn.metrics.classification_report is a tool in the Scikit-Learn library that provides a summary of the performance of a classification model.\n",
        "\n",
        "When you use it, you'll get:\n",
        "\n",
        "Precision: For each class, it tells you the ratio of true positive predictions to the total positive predictions (true positives + false positives). It answers the question: \"Of all the times the model labeled something as Class A, how often was it correct?\"\n",
        "\n",
        "Recall: For each class, it indicates the ratio of true positive predictions to the actual positives in the data (true positives + false negatives). It answers the question: \"Of all the actual Class A instances, how many did the model correctly identify?\"\n",
        "\n",
        "F1-Score: A single metric that combines both precision and recall using the harmonic mean. It's especially useful when you want a balance between precision and recall.\n",
        "\n",
        "Support: The number of actual occurrences of each class in the specified dataset.\n",
        "\n",
        "Micro, Macro, and Weighted averages: These are different ways to average the precision, recall, and F1-score:\n",
        "\n",
        "Micro: Globally count total true positives, false negatives, and false positives.\n",
        "Macro: Average the unweighted metric scores for each class.\n",
        "Weighted: Average the metric scores of each class, considering the number of true instances for each label (support).\n",
        "In Simple Terms:\n",
        "classification_report gives you a quick overview of how well your classification model is doing for each class. It tells you about its accuracy in labeling, how often it misses, and provides a combined performance score, all neatly summarized in a table."
      ],
      "metadata": {
        "id": "3YiUwQK3UsIJ"
      }
    },
    {
      "cell_type": "code",
      "source": [
        "from sklearn.metrics import classification_report"
      ],
      "metadata": {
        "id": "klPGyd7lVIjK"
      },
      "execution_count": null,
      "outputs": []
    },
    {
      "cell_type": "code",
      "source": [
        "print(classification_report(y_test, y_pred))"
      ],
      "metadata": {
        "colab": {
          "base_uri": "https://localhost:8080/"
        },
        "id": "1fYW3J1DVTNC",
        "outputId": "a35479ec-4d00-452c-d51b-cf1ab5158c7d"
      },
      "execution_count": null,
      "outputs": [
        {
          "output_type": "stream",
          "name": "stdout",
          "text": [
            "              precision    recall  f1-score   support\n",
            "\n",
            "           0       0.75      0.66      0.70      1316\n",
            "           1       0.83      0.88      0.86      2488\n",
            "\n",
            "    accuracy                           0.80      3804\n",
            "   macro avg       0.79      0.77      0.78      3804\n",
            "weighted avg       0.80      0.80      0.80      3804\n",
            "\n"
          ]
        }
      ]
    },
    {
      "cell_type": "markdown",
      "source": [
        "Describing it, accuracy is 81% not too bad. We got that many right.\n",
        "\n",
        "On precision and recall, look at: https://en.wikipedia.org/wiki/Precision_and_recall\n",
        "\n",
        "\n",
        "![image.png](data:image/png;base64,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)\n",
        "\n",
        "\n",
        "Precision: It tells you how accurate your model is when it claims a data point belongs to a certain class. In other words, when the model says \"This is Class A\", how often is it actually right?\n",
        "\n",
        "Recall: It indicates how good your model is at capturing all the data points of a certain class. That is, out of all the data points that truly are \"Class A\", how many did the model correctly identify?\n",
        "\n",
        "In Simple Terms:\n",
        "Imagine you have a basket of fruits, and you're trying to pick out all the apples.\n",
        "\n",
        "Precision: Out of all the fruits you claimed were apples, how many were actually apples?\n",
        "\n",
        "Recall: Out of all the real apples in the basket, how many did you manage to pick out?\n",
        "\n",
        "*Now, what if made the k = 3, instead of 1*"
      ],
      "metadata": {
        "id": "Rf_xFHJYWM8k"
      }
    },
    {
      "cell_type": "markdown",
      "source": [
        "**Difference Example:**\n",
        "\n",
        "Imagine you have an alarm system to detect burglars.\n",
        "\n",
        "It goes off 8 times: 5 times for actual burglars and 3 times because of a cat.\n",
        "There were a total of 7 burglars that night, so the alarm missed 2 burglars.\n",
        "Precision:\n",
        "Out of the 8 alarms, only 5 were actual burglars.\n",
        "Precision = 5/8 = 62.5%\n",
        "(When the alarm rings, it's right 62.5% of the time.)\n",
        "\n",
        "Recall:\n",
        "Out of the 7 actual burglars, the alarm detected 5.\n",
        "Recall = 5/7 ≈ 71.4%\n",
        "(The alarm caught 71.4% of the burglars.)\n",
        "\n",
        "Simple Takeaway:\n",
        "Precision: When the system makes a claim (like sounding the alarm), how trustworthy is it?\n",
        "\n",
        "Recall: How good is the system at not missing real incidents (like actual burglars)?\n",
        "\n",
        "\n",
        "\n",
        "\n",
        "\n"
      ],
      "metadata": {
        "id": "QOs2Uv4eUROX"
      }
    },
    {
      "cell_type": "code",
      "source": [
        "knn_model_1 = KNeighborsClassifier(n_neighbors = 3)\n",
        "knn_model_1.fit(X_train, y_train)\n",
        "y_pred_1 = knn_model_1.predict(X_test)\n",
        "print(classification_report(y_test, y_pred_1))\n"
      ],
      "metadata": {
        "colab": {
          "base_uri": "https://localhost:8080/"
        },
        "id": "FVY3QfzcZbjS",
        "outputId": "ed851593-31a7-405a-ffff-3ef8245528c2"
      },
      "execution_count": null,
      "outputs": [
        {
          "output_type": "stream",
          "name": "stdout",
          "text": [
            "              precision    recall  f1-score   support\n",
            "\n",
            "           0       0.71      0.71      0.71      1316\n",
            "           1       0.84      0.85      0.85      2488\n",
            "\n",
            "    accuracy                           0.80      3804\n",
            "   macro avg       0.78      0.78      0.78      3804\n",
            "weighted avg       0.80      0.80      0.80      3804\n",
            "\n"
          ]
        }
      ]
    },
    {
      "cell_type": "markdown",
      "source": [
        "Increased the F1 scores, but overall accuracy the same. We have some improvement. Now lets use k = 5.\n"
      ],
      "metadata": {
        "id": "iWXd5ruBaBxQ"
      }
    },
    {
      "cell_type": "code",
      "source": [
        "knn_model_2 = KNeighborsClassifier(n_neighbors = 5)\n",
        "knn_model_2.fit(X_train, y_train)\n",
        "y_pred_2 = knn_model_2.predict(X_test)\n",
        "print(classification_report(y_test, y_pred_2))"
      ],
      "metadata": {
        "colab": {
          "base_uri": "https://localhost:8080/"
        },
        "id": "ahreHD4AaI94",
        "outputId": "b2a9106e-993e-41aa-ba40-780f9b5a0219"
      },
      "execution_count": null,
      "outputs": [
        {
          "output_type": "stream",
          "name": "stdout",
          "text": [
            "              precision    recall  f1-score   support\n",
            "\n",
            "           0       0.74      0.72      0.73      1316\n",
            "           1       0.85      0.87      0.86      2488\n",
            "\n",
            "    accuracy                           0.81      3804\n",
            "   macro avg       0.80      0.79      0.79      3804\n",
            "weighted avg       0.81      0.81      0.81      3804\n",
            "\n"
          ]
        }
      ]
    },
    {
      "cell_type": "markdown",
      "source": [
        "More improvements, accuracy is the same.\n",
        "And there ya have it. Works for a simple model decently well at 81%."
      ],
      "metadata": {
        "id": "4x0yo_P7af3w"
      }
    },
    {
      "cell_type": "code",
      "source": [
        "knn_model_3 = KNeighborsClassifier(n_neighbors = 50)\n",
        "knn_model_3.fit(X_train, y_train)\n",
        "y_pred_3 = knn_model_3.predict(X_test)\n",
        "print(classification_report(y_test, y_pred_3))"
      ],
      "metadata": {
        "colab": {
          "base_uri": "https://localhost:8080/"
        },
        "id": "PqTRtxE7XBjl",
        "outputId": "de4ed714-4802-45ed-8288-b2b309b66584"
      },
      "execution_count": null,
      "outputs": [
        {
          "output_type": "stream",
          "name": "stdout",
          "text": [
            "              precision    recall  f1-score   support\n",
            "\n",
            "           0       0.77      0.71      0.74      1316\n",
            "           1       0.85      0.89      0.87      2488\n",
            "\n",
            "    accuracy                           0.83      3804\n",
            "   macro avg       0.81      0.80      0.80      3804\n",
            "weighted avg       0.82      0.83      0.82      3804\n",
            "\n"
          ]
        }
      ]
    },
    {
      "cell_type": "markdown",
      "source": [
        "Using 50 k-neighbours, our accuracy statistics jump up massively.\n",
        "\n",
        "However, at 100, it reduces. Might wanna create a function that results in the ideal number of neighbors to use in order to get the most ideal outcome.\n",
        "\n",
        "At 1000, it reduces massively."
      ],
      "metadata": {
        "id": "ZfwO7Tf9XI5V"
      }
    },
    {
      "cell_type": "markdown",
      "source": [
        "### Naive Bayes Model\n",
        "\n",
        "Refer the Onenote Notes"
      ],
      "metadata": {
        "id": "Fo-ZSmVzawvW"
      }
    },
    {
      "cell_type": "code",
      "source": [
        "from sklearn.naive_bayes import GaussianNB"
      ],
      "metadata": {
        "id": "hV_UhMBO2QQu"
      },
      "execution_count": null,
      "outputs": []
    },
    {
      "cell_type": "code",
      "source": [
        "nb_model = GaussianNB()\n",
        "nb_model = nb_model.fit(X_train, y_train)"
      ],
      "metadata": {
        "id": "k1W_n5F52YGG"
      },
      "execution_count": null,
      "outputs": []
    },
    {
      "cell_type": "code",
      "source": [
        "y_pred_nb = nb_model.predict(X_test)"
      ],
      "metadata": {
        "id": "2VHAuHGo3MuM"
      },
      "execution_count": null,
      "outputs": []
    },
    {
      "cell_type": "code",
      "source": [
        "print(classification_report(y_test, y_pred_nb))"
      ],
      "metadata": {
        "colab": {
          "base_uri": "https://localhost:8080/"
        },
        "id": "UaxRHqNP3YQt",
        "outputId": "a00e58dc-9453-4580-985f-1e597d621560"
      },
      "execution_count": null,
      "outputs": [
        {
          "output_type": "stream",
          "name": "stdout",
          "text": [
            "              precision    recall  f1-score   support\n",
            "\n",
            "           0       0.66      0.39      0.49      1316\n",
            "           1       0.73      0.89      0.81      2488\n",
            "\n",
            "    accuracy                           0.72      3804\n",
            "   macro avg       0.69      0.64      0.65      3804\n",
            "weighted avg       0.71      0.72      0.70      3804\n",
            "\n"
          ]
        }
      ]
    },
    {
      "cell_type": "markdown",
      "source": [
        "Accuracy has dropped. Therefore, probability not a better predictive model."
      ],
      "metadata": {
        "id": "ggsSRV0b3nze"
      }
    },
    {
      "cell_type": "markdown",
      "source": [
        "### Logistic Regression\n",
        "\n",
        "This type of statistical model (also known as logit model) is often used for classification and predictive analytics. Logistic regression estimates the probability of an event occurring, such as voted or didn’t vote, based on a given dataset of independent variables. Since the outcome is a probability, the dependent variable is bounded between 0 and 1."
      ],
      "metadata": {
        "id": "TVzrd2tGGD2Q"
      }
    },
    {
      "cell_type": "code",
      "source": [
        "from sklearn.linear_model import LogisticRegression"
      ],
      "metadata": {
        "id": "mdyirbXyGj-Y"
      },
      "execution_count": null,
      "outputs": []
    },
    {
      "cell_type": "code",
      "source": [
        "lg_model = LogisticRegression()\n",
        "#here one of the parameters is penalty\n",
        "#we are using an L2 penalty\n",
        "lg_model = lg_model.fit(X_train, y_train)"
      ],
      "metadata": {
        "id": "NEu2VFE4G7tX"
      },
      "execution_count": null,
      "outputs": []
    },
    {
      "cell_type": "code",
      "source": [
        "y_pred_lg = lg_model.predict(X_test)\n",
        "print(classification_report(y_test, y_pred_lg))"
      ],
      "metadata": {
        "colab": {
          "base_uri": "https://localhost:8080/"
        },
        "id": "fI3BCMReIIc9",
        "outputId": "a5f079f7-e60a-4276-9d7e-44b930a97d82"
      },
      "execution_count": null,
      "outputs": [
        {
          "output_type": "stream",
          "name": "stdout",
          "text": [
            "              precision    recall  f1-score   support\n",
            "\n",
            "           0       0.68      0.72      0.70      1316\n",
            "           1       0.85      0.82      0.84      2488\n",
            "\n",
            "    accuracy                           0.79      3804\n",
            "   macro avg       0.77      0.77      0.77      3804\n",
            "weighted avg       0.79      0.79      0.79      3804\n",
            "\n"
          ]
        }
      ]
    },
    {
      "cell_type": "markdown",
      "source": [
        "Performs sligtly better than NB but not kNN"
      ],
      "metadata": {
        "id": "gv99TC7tIgd6"
      }
    },
    {
      "cell_type": "markdown",
      "source": [
        "### SVM - Support Vector Machine\n",
        "\n",
        "Look into Onenote"
      ],
      "metadata": {
        "id": "fN7tC260Iz7U"
      }
    },
    {
      "cell_type": "code",
      "source": [
        "from sklearn.svm import SVC\n",
        "#the SVC - Support Vector Classifier"
      ],
      "metadata": {
        "id": "tEqqS7sgnkJf"
      },
      "execution_count": null,
      "outputs": []
    },
    {
      "cell_type": "code",
      "source": [
        "svm_model = SVC()\n",
        "svm_model = svm_model.fit(X_train,y_train)"
      ],
      "metadata": {
        "id": "xcxjgwmdntN7"
      },
      "execution_count": null,
      "outputs": []
    },
    {
      "cell_type": "code",
      "source": [
        "y_pred = svm_model.predict(X_test)\n",
        "print(classification_report(y_test, y_pred))"
      ],
      "metadata": {
        "colab": {
          "base_uri": "https://localhost:8080/"
        },
        "id": "5XgwtZLfn94n",
        "outputId": "30736d99-36c8-4c16-a138-08a151428fb3"
      },
      "execution_count": null,
      "outputs": [
        {
          "output_type": "stream",
          "name": "stdout",
          "text": [
            "              precision    recall  f1-score   support\n",
            "\n",
            "           0       0.81      0.78      0.80      1316\n",
            "           1       0.89      0.90      0.90      2488\n",
            "\n",
            "    accuracy                           0.86      3804\n",
            "   macro avg       0.85      0.84      0.85      3804\n",
            "weighted avg       0.86      0.86      0.86      3804\n",
            "\n"
          ]
        }
      ]
    },
    {
      "cell_type": "markdown",
      "source": [
        "High accuracy of around 86%"
      ],
      "metadata": {
        "id": "UIvBFZt2oWMo"
      }
    },
    {
      "cell_type": "markdown",
      "source": [
        "## Neural Networks - Classification"
      ],
      "metadata": {
        "id": "JOdhcABIGrd5"
      }
    },
    {
      "cell_type": "code",
      "source": [
        "import tensorflow as tf"
      ],
      "metadata": {
        "id": "isAjQaYWG0MB"
      },
      "execution_count": null,
      "outputs": []
    },
    {
      "cell_type": "code",
      "source": [],
      "metadata": {
        "id": "1HsOMAfLHBmT"
      },
      "execution_count": null,
      "outputs": []
    }
  ]
}